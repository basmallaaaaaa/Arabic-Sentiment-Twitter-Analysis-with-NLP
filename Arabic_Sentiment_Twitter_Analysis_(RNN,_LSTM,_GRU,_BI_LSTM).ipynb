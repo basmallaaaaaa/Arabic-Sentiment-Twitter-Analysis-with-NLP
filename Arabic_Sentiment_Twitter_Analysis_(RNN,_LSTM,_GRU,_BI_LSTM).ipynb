{
  "nbformat": 4,
  "nbformat_minor": 0,
  "metadata": {
    "colab": {
      "provenance": [],
      "gpuType": "T4"
    },
    "kernelspec": {
      "name": "python3",
      "display_name": "Python 3"
    },
    "language_info": {
      "name": "python"
    },
    "accelerator": "GPU"
  },
  "cells": [
    {
      "cell_type": "code",
      "source": [
        "import os\n",
        "import random\n",
        "import numpy as np\n",
        "import pandas as pd\n",
        "import matplotlib.pyplot as plt\n",
        "import seaborn as sns\n",
        "import tensorflow as tf\n",
        "from sklearn.metrics import classification_report, confusion_matrix\n",
        "from tensorflow.keras.preprocessing.image import ImageDataGenerator\n",
        "from tensorflow.keras.models import Sequential\n",
        "from tensorflow.keras.layers import Dense ,Flatten ,Conv2D ,MaxPooling2D ,Dropout ,BatchNormalization ,GlobalMaxPool2D\n",
        "from tensorflow.keras.optimizers import Adam\n",
        "from tensorflow.keras.callbacks import EarlyStopping ,ReduceLROnPlateau ,ModelCheckpoint\n",
        "from tensorflow.keras.applications import DenseNet121\n",
        "from tensorflow.keras.models import Sequential\n",
        "from tensorflow.keras.layers import Embedding, Conv1D, GlobalMaxPooling1D, Dense, Dropout\n",
        "from nltk.tokenize import word_tokenize\n",
        "from tensorflow.keras.applications import EfficientNetB3\n",
        "from tensorflow.keras.applications import MobileNetV3Small\n",
        "from tensorflow.keras.applications import ResNet50\n",
        "from sklearn.model_selection import train_test_split\n",
        "from transformers import TFAutoModelForSequenceClassification, AutoTokenizer\n",
        "from tensorflow.keras.optimizers import Adam\n",
        "import string\n",
        "from tqdm import tqdm\n",
        "tqdm.pandas()\n",
        "\n",
        "# Ml Models\n",
        "from sklearn.linear_model import LogisticRegression\n",
        "from sklearn.neighbors import KNeighborsClassifier\n",
        "from sklearn.svm import SVC\n",
        "from sklearn.metrics import accuracy_score, precision_score, recall_score, f1_score, classification_report, confusion_matrix, roc_curve, auc\n",
        "from sklearn.preprocessing import label_binarize\n",
        "from sklearn.tree import DecisionTreeClassifier\n",
        "from sklearn.ensemble import RandomForestClassifier\n",
        "from sklearn.ensemble import ExtraTreesClassifier, AdaBoostClassifier\n",
        "\n",
        "\n",
        "#Metrics\n",
        "from sklearn.metrics import accuracy_score, precision_score, recall_score, f1_score, classification_report, confusion_matrix, roc_curve, auc"
      ],
      "metadata": {
        "id": "HLKfTc5n6g5A"
      },
      "execution_count": null,
      "outputs": []
    },
    {
      "cell_type": "code",
      "execution_count": null,
      "metadata": {
        "colab": {
          "base_uri": "https://localhost:8080/"
        },
        "id": "cvLKrO1R6fq0",
        "outputId": "092d33be-c257-4a0e-c62d-17d9b5346bd2"
      },
      "outputs": [
        {
          "output_type": "stream",
          "name": "stdout",
          "text": [
            "Downloading from https://www.kaggle.com/api/v1/datasets/download/mksaad/arabic-sentiment-twitter-corpus?dataset_version_number=2...\n"
          ]
        },
        {
          "output_type": "stream",
          "name": "stderr",
          "text": [
            "100%|██████████| 16.9M/16.9M [00:01<00:00, 9.61MB/s]"
          ]
        },
        {
          "output_type": "stream",
          "name": "stdout",
          "text": [
            "Extracting files...\n"
          ]
        },
        {
          "output_type": "stream",
          "name": "stderr",
          "text": [
            "\n"
          ]
        },
        {
          "output_type": "stream",
          "name": "stdout",
          "text": [
            "Path to dataset files: /root/.cache/kagglehub/datasets/mksaad/arabic-sentiment-twitter-corpus/versions/2\n"
          ]
        }
      ],
      "source": [
        "import kagglehub\n",
        "\n",
        "# Download latest version\n",
        "path = kagglehub.dataset_download(\"mksaad/arabic-sentiment-twitter-corpus\")\n",
        "\n",
        "print(\"Path to dataset files:\", path)"
      ]
    },
    {
      "cell_type": "code",
      "source": [
        "os.listdir(path)"
      ],
      "metadata": {
        "colab": {
          "base_uri": "https://localhost:8080/"
        },
        "id": "jDkfVu5q68Yd",
        "outputId": "a93b5a50-a808-4f51-a015-39a645f41fe4"
      },
      "execution_count": null,
      "outputs": [
        {
          "output_type": "execute_result",
          "data": {
            "text/plain": [
              "['train_Arabic_tweets_negative_20190413.tsv',\n",
              " 'train_Arabic_tweets_positive_20190413.tsv',\n",
              " 'test_Arabic_tweets_negative_20190413.tsv',\n",
              " 'arabic_tweets',\n",
              " 'test_Arabic_tweets_positive_20190413.tsv']"
            ]
          },
          "metadata": {},
          "execution_count": 4
        }
      ]
    },
    {
      "cell_type": "code",
      "source": [
        "os.listdir(path+'/arabic_tweets/neg')"
      ],
      "metadata": {
        "colab": {
          "base_uri": "https://localhost:8080/"
        },
        "id": "xf8e4j517wxC",
        "outputId": "f172dbde-4487-40c2-9153-fcfd702a9bd3"
      },
      "execution_count": null,
      "outputs": [
        {
          "output_type": "execute_result",
          "data": {
            "text/plain": [
              "['19842.txt',\n",
              " '26533.txt',\n",
              " '10915.txt',\n",
              " '7698.txt',\n",
              " '24152.txt',\n",
              " '10280.txt',\n",
              " '15843.txt',\n",
              " '26034.txt',\n",
              " '26398.txt',\n",
              " '19702.txt',\n",
              " '8886.txt',\n",
              " '9019.txt',\n",
              " '9956.txt',\n",
              " '2319.txt',\n",
              " '3945.txt',\n",
              " '25231.txt',\n",
              " '7973.txt',\n",
              " '7075.txt',\n",
              " '14953.txt',\n",
              " '6828.txt',\n",
              " '10991.txt',\n",
              " '27533.txt',\n",
              " '18334.txt',\n",
              " '20382.txt',\n",
              " '8737.txt',\n",
              " '22763.txt',\n",
              " '1545.txt',\n",
              " '28649.txt',\n",
              " '4952.txt',\n",
              " '2582.txt',\n",
              " '18025.txt',\n",
              " '19591.txt',\n",
              " '7641.txt',\n",
              " '23277.txt',\n",
              " '7775.txt',\n",
              " '22127.txt',\n",
              " '3171.txt',\n",
              " '169.txt',\n",
              " '20673.txt',\n",
              " '21378.txt',\n",
              " '14531.txt',\n",
              " '4675.txt',\n",
              " '24906.txt',\n",
              " '18759.txt',\n",
              " '1095.txt',\n",
              " '19193.txt',\n",
              " '5978.txt',\n",
              " '20905.txt',\n",
              " '16563.txt',\n",
              " '15140.txt',\n",
              " '26268.txt',\n",
              " '23398.txt',\n",
              " '3980.txt',\n",
              " '4825.txt',\n",
              " '19327.txt',\n",
              " '26351.txt',\n",
              " '3730.txt',\n",
              " '14615.txt',\n",
              " '21870.txt',\n",
              " '9580.txt',\n",
              " '25198.txt',\n",
              " '20238.txt',\n",
              " '14940.txt',\n",
              " '27549.txt',\n",
              " '22473.txt',\n",
              " '24121.txt',\n",
              " '8549.txt',\n",
              " '13084.txt',\n",
              " '18293.txt',\n",
              " '23591.txt',\n",
              " '11078.txt',\n",
              " '18997.txt',\n",
              " '20013.txt',\n",
              " '2748.txt',\n",
              " '21426.txt',\n",
              " '22843.txt',\n",
              " '26146.txt',\n",
              " '17837.txt',\n",
              " '4536.txt',\n",
              " '4089.txt',\n",
              " '21732.txt',\n",
              " '3233.txt',\n",
              " '21862.txt',\n",
              " '23861.txt',\n",
              " '2686.txt',\n",
              " '5488.txt',\n",
              " '11698.txt',\n",
              " '15599.txt',\n",
              " '20836.txt',\n",
              " '16996.txt',\n",
              " '19926.txt',\n",
              " '23106.txt',\n",
              " '20195.txt',\n",
              " '13449.txt',\n",
              " '15309.txt',\n",
              " '2797.txt',\n",
              " '384.txt',\n",
              " '2584.txt',\n",
              " '25155.txt',\n",
              " '24236.txt',\n",
              " '21111.txt',\n",
              " '20560.txt',\n",
              " '4719.txt',\n",
              " '1237.txt',\n",
              " '18335.txt',\n",
              " '10489.txt',\n",
              " '13186.txt',\n",
              " '10258.txt',\n",
              " '19380.txt',\n",
              " '11909.txt',\n",
              " '11095.txt',\n",
              " '6110.txt',\n",
              " '15148.txt',\n",
              " '11729.txt',\n",
              " '23149.txt',\n",
              " '955.txt',\n",
              " '28604.txt',\n",
              " '7562.txt',\n",
              " '12458.txt',\n",
              " '27721.txt',\n",
              " '27297.txt',\n",
              " '8708.txt',\n",
              " '24000.txt',\n",
              " '4327.txt',\n",
              " '22080.txt',\n",
              " '3847.txt',\n",
              " '18901.txt',\n",
              " '21215.txt',\n",
              " '4177.txt',\n",
              " '10998.txt',\n",
              " '12270.txt',\n",
              " '23566.txt',\n",
              " '8735.txt',\n",
              " '4914.txt',\n",
              " '16298.txt',\n",
              " '26002.txt',\n",
              " '8510.txt',\n",
              " '11783.txt',\n",
              " '11354.txt',\n",
              " '18277.txt',\n",
              " '22177.txt',\n",
              " '25568.txt',\n",
              " '27422.txt',\n",
              " '14782.txt',\n",
              " '27938.txt',\n",
              " '19571.txt',\n",
              " '22324.txt',\n",
              " '25912.txt',\n",
              " '21609.txt',\n",
              " '6089.txt',\n",
              " '13692.txt',\n",
              " '12890.txt',\n",
              " '10809.txt',\n",
              " '13981.txt',\n",
              " '18885.txt',\n",
              " '8165.txt',\n",
              " '794.txt',\n",
              " '18315.txt',\n",
              " '10830.txt',\n",
              " '2823.txt',\n",
              " '2433.txt',\n",
              " '24530.txt',\n",
              " '18659.txt',\n",
              " '12918.txt',\n",
              " '3252.txt',\n",
              " '28785.txt',\n",
              " '26682.txt',\n",
              " '20557.txt',\n",
              " '15696.txt',\n",
              " '20468.txt',\n",
              " '1914.txt',\n",
              " '7036.txt',\n",
              " '14882.txt',\n",
              " '15916.txt',\n",
              " '4485.txt',\n",
              " '4519.txt',\n",
              " '21516.txt',\n",
              " '28156.txt',\n",
              " '13431.txt',\n",
              " '1940.txt',\n",
              " '4433.txt',\n",
              " '1887.txt',\n",
              " '11264.txt',\n",
              " '24533.txt',\n",
              " '8159.txt',\n",
              " '4262.txt',\n",
              " '24797.txt',\n",
              " '629.txt',\n",
              " '27271.txt',\n",
              " '4296.txt',\n",
              " '14138.txt',\n",
              " '23978.txt',\n",
              " '26458.txt',\n",
              " '23982.txt',\n",
              " '25935.txt',\n",
              " '1285.txt',\n",
              " '663.txt',\n",
              " '5476.txt',\n",
              " '10047.txt',\n",
              " '13632.txt',\n",
              " '27700.txt',\n",
              " '16700.txt',\n",
              " '24624.txt',\n",
              " '25181.txt',\n",
              " '15575.txt',\n",
              " '6269.txt',\n",
              " '19763.txt',\n",
              " '28143.txt',\n",
              " '18344.txt',\n",
              " '11538.txt',\n",
              " '18645.txt',\n",
              " '27152.txt',\n",
              " '4743.txt',\n",
              " '917.txt',\n",
              " '23888.txt',\n",
              " '8494.txt',\n",
              " '3287.txt',\n",
              " '10582.txt',\n",
              " '683.txt',\n",
              " '14889.txt',\n",
              " '5003.txt',\n",
              " '25516.txt',\n",
              " '26445.txt',\n",
              " '11182.txt',\n",
              " '14172.txt',\n",
              " '23630.txt',\n",
              " '25826.txt',\n",
              " '10366.txt',\n",
              " '6555.txt',\n",
              " '26452.txt',\n",
              " '21921.txt',\n",
              " '21785.txt',\n",
              " '8531.txt',\n",
              " '382.txt',\n",
              " '15047.txt',\n",
              " '1960.txt',\n",
              " '19896.txt',\n",
              " '26003.txt',\n",
              " '40.txt',\n",
              " '21208.txt',\n",
              " '24420.txt',\n",
              " '22536.txt',\n",
              " '18580.txt',\n",
              " '19678.txt',\n",
              " '10156.txt',\n",
              " '5671.txt',\n",
              " '6866.txt',\n",
              " '13541.txt',\n",
              " '14587.txt',\n",
              " '26182.txt',\n",
              " '25380.txt',\n",
              " '27686.txt',\n",
              " '25118.txt',\n",
              " '25502.txt',\n",
              " '15335.txt',\n",
              " '28817.txt',\n",
              " '11494.txt',\n",
              " '23541.txt',\n",
              " '4871.txt',\n",
              " '5968.txt',\n",
              " '16900.txt',\n",
              " '6617.txt',\n",
              " '15919.txt',\n",
              " '28652.txt',\n",
              " '5490.txt',\n",
              " '13511.txt',\n",
              " '26673.txt',\n",
              " '8303.txt',\n",
              " '20458.txt',\n",
              " '5256.txt',\n",
              " '13271.txt',\n",
              " '12501.txt',\n",
              " '15600.txt',\n",
              " '1883.txt',\n",
              " '2310.txt',\n",
              " '24825.txt',\n",
              " '10627.txt',\n",
              " '1170.txt',\n",
              " '27838.txt',\n",
              " '26587.txt',\n",
              " '9585.txt',\n",
              " '23642.txt',\n",
              " '4078.txt',\n",
              " '15545.txt',\n",
              " '27473.txt',\n",
              " '18756.txt',\n",
              " '17164.txt',\n",
              " '21888.txt',\n",
              " '751.txt',\n",
              " '17792.txt',\n",
              " '27099.txt',\n",
              " '14379.txt',\n",
              " '4243.txt',\n",
              " '28680.txt',\n",
              " '15100.txt',\n",
              " '15853.txt',\n",
              " '7785.txt',\n",
              " '7606.txt',\n",
              " '16355.txt',\n",
              " '10884.txt',\n",
              " '3997.txt',\n",
              " '13762.txt',\n",
              " '10440.txt',\n",
              " '11135.txt',\n",
              " '12469.txt',\n",
              " '9159.txt',\n",
              " '13888.txt',\n",
              " '26321.txt',\n",
              " '25707.txt',\n",
              " '6879.txt',\n",
              " '6932.txt',\n",
              " '21223.txt',\n",
              " '2338.txt',\n",
              " '25553.txt',\n",
              " '18030.txt',\n",
              " '10104.txt',\n",
              " '20538.txt',\n",
              " '20840.txt',\n",
              " '10803.txt',\n",
              " '7145.txt',\n",
              " '172.txt',\n",
              " '8547.txt',\n",
              " '6479.txt',\n",
              " '4116.txt',\n",
              " '7745.txt',\n",
              " '15941.txt',\n",
              " '23069.txt',\n",
              " '12607.txt',\n",
              " '20303.txt',\n",
              " '27692.txt',\n",
              " '16191.txt',\n",
              " '4258.txt',\n",
              " '6225.txt',\n",
              " '935.txt',\n",
              " '4897.txt',\n",
              " '27943.txt',\n",
              " '25239.txt',\n",
              " '107.txt',\n",
              " '28374.txt',\n",
              " '12903.txt',\n",
              " '7759.txt',\n",
              " '25932.txt',\n",
              " '20555.txt',\n",
              " '15473.txt',\n",
              " '19031.txt',\n",
              " '27948.txt',\n",
              " '1765.txt',\n",
              " '1777.txt',\n",
              " '7386.txt',\n",
              " '25194.txt',\n",
              " '549.txt',\n",
              " '17878.txt',\n",
              " '4971.txt',\n",
              " '16942.txt',\n",
              " '6582.txt',\n",
              " '24627.txt',\n",
              " '15149.txt',\n",
              " '10495.txt',\n",
              " '964.txt',\n",
              " '19510.txt',\n",
              " '6116.txt',\n",
              " '27495.txt',\n",
              " '6340.txt',\n",
              " '8647.txt',\n",
              " '15103.txt',\n",
              " '14387.txt',\n",
              " '17758.txt',\n",
              " '9335.txt',\n",
              " '8452.txt',\n",
              " '23876.txt',\n",
              " '4236.txt',\n",
              " '23079.txt',\n",
              " '20277.txt',\n",
              " '7440.txt',\n",
              " '19743.txt',\n",
              " '12397.txt',\n",
              " '1277.txt',\n",
              " '1269.txt',\n",
              " '28671.txt',\n",
              " '3870.txt',\n",
              " '4344.txt',\n",
              " '27607.txt',\n",
              " '25016.txt',\n",
              " '9366.txt',\n",
              " '9162.txt',\n",
              " '21751.txt',\n",
              " '22333.txt',\n",
              " '28054.txt',\n",
              " '27158.txt',\n",
              " '16740.txt',\n",
              " '1653.txt',\n",
              " '6757.txt',\n",
              " '10201.txt',\n",
              " '11636.txt',\n",
              " '2232.txt',\n",
              " '22745.txt',\n",
              " '750.txt',\n",
              " '7528.txt',\n",
              " '412.txt',\n",
              " '15394.txt',\n",
              " '19749.txt',\n",
              " '13352.txt',\n",
              " '19979.txt',\n",
              " '27345.txt',\n",
              " '9012.txt',\n",
              " '16307.txt',\n",
              " '9341.txt',\n",
              " '2331.txt',\n",
              " '9365.txt',\n",
              " '4734.txt',\n",
              " '5482.txt',\n",
              " '3525.txt',\n",
              " '6480.txt',\n",
              " '16516.txt',\n",
              " '8493.txt',\n",
              " '9214.txt',\n",
              " '6579.txt',\n",
              " '23662.txt',\n",
              " '7891.txt',\n",
              " '16430.txt',\n",
              " '8161.txt',\n",
              " '14065.txt',\n",
              " '22765.txt',\n",
              " '8800.txt',\n",
              " '4334.txt',\n",
              " '4323.txt',\n",
              " '26873.txt',\n",
              " '15701.txt',\n",
              " '12907.txt',\n",
              " '13925.txt',\n",
              " '13863.txt',\n",
              " '7121.txt',\n",
              " '23707.txt',\n",
              " '28253.txt',\n",
              " '16817.txt',\n",
              " '23281.txt',\n",
              " '2609.txt',\n",
              " '23859.txt',\n",
              " '23798.txt',\n",
              " '19130.txt',\n",
              " '13201.txt',\n",
              " '7226.txt',\n",
              " '15727.txt',\n",
              " '12658.txt',\n",
              " '28281.txt',\n",
              " '10778.txt',\n",
              " '4621.txt',\n",
              " '5406.txt',\n",
              " '23685.txt',\n",
              " '9005.txt',\n",
              " '16701.txt',\n",
              " '4058.txt',\n",
              " '16245.txt',\n",
              " '16377.txt',\n",
              " '26854.txt',\n",
              " '15257.txt',\n",
              " '16353.txt',\n",
              " '17043.txt',\n",
              " '12590.txt',\n",
              " '13637.txt',\n",
              " '18300.txt',\n",
              " '20296.txt',\n",
              " '2399.txt',\n",
              " '23413.txt',\n",
              " '25513.txt',\n",
              " '26413.txt',\n",
              " '18310.txt',\n",
              " '10816.txt',\n",
              " '15844.txt',\n",
              " '6236.txt',\n",
              " '12396.txt',\n",
              " '21643.txt',\n",
              " '28821.txt',\n",
              " '9675.txt',\n",
              " '2193.txt',\n",
              " '25819.txt',\n",
              " '27662.txt',\n",
              " '19067.txt',\n",
              " '3101.txt',\n",
              " '27599.txt',\n",
              " '13568.txt',\n",
              " '11751.txt',\n",
              " '5956.txt',\n",
              " '28741.txt',\n",
              " '21095.txt',\n",
              " '11914.txt',\n",
              " '26310.txt',\n",
              " '7971.txt',\n",
              " '24413.txt',\n",
              " '25505.txt',\n",
              " '1051.txt',\n",
              " '11367.txt',\n",
              " '16153.txt',\n",
              " '6015.txt',\n",
              " '2596.txt',\n",
              " '22168.txt',\n",
              " '2794.txt',\n",
              " '15234.txt',\n",
              " '11837.txt',\n",
              " '24866.txt',\n",
              " '2818.txt',\n",
              " '18883.txt',\n",
              " '2250.txt',\n",
              " '24110.txt',\n",
              " '7793.txt',\n",
              " '73.txt',\n",
              " '7218.txt',\n",
              " '14474.txt',\n",
              " '11546.txt',\n",
              " '1650.txt',\n",
              " '13811.txt',\n",
              " '12993.txt',\n",
              " '22221.txt',\n",
              " '20947.txt',\n",
              " '28673.txt',\n",
              " '6468.txt',\n",
              " '9810.txt',\n",
              " '6630.txt',\n",
              " '6965.txt',\n",
              " '38.txt',\n",
              " '2342.txt',\n",
              " '19813.txt',\n",
              " '17940.txt',\n",
              " '24414.txt',\n",
              " '19983.txt',\n",
              " '21640.txt',\n",
              " '8833.txt',\n",
              " '21806.txt',\n",
              " '23064.txt',\n",
              " '27814.txt',\n",
              " '18362.txt',\n",
              " '8433.txt',\n",
              " '22544.txt',\n",
              " '23202.txt',\n",
              " '15159.txt',\n",
              " '10969.txt',\n",
              " '26345.txt',\n",
              " '2305.txt',\n",
              " '9830.txt',\n",
              " '3307.txt',\n",
              " '14102.txt',\n",
              " '22835.txt',\n",
              " '5207.txt',\n",
              " '19881.txt',\n",
              " '19903.txt',\n",
              " '16585.txt',\n",
              " '9972.txt',\n",
              " '24991.txt',\n",
              " '23349.txt',\n",
              " '8915.txt',\n",
              " '13887.txt',\n",
              " '18591.txt',\n",
              " '19545.txt',\n",
              " '26375.txt',\n",
              " '17530.txt',\n",
              " '16063.txt',\n",
              " '15896.txt',\n",
              " '3261.txt',\n",
              " '27215.txt',\n",
              " '5768.txt',\n",
              " '3984.txt',\n",
              " '25894.txt',\n",
              " '24312.txt',\n",
              " '21389.txt',\n",
              " '18964.txt',\n",
              " '51.txt',\n",
              " '14772.txt',\n",
              " '10962.txt',\n",
              " '6416.txt',\n",
              " '22328.txt',\n",
              " '7586.txt',\n",
              " '6641.txt',\n",
              " '12628.txt',\n",
              " '671.txt',\n",
              " '9683.txt',\n",
              " '26453.txt',\n",
              " '15761.txt',\n",
              " '6220.txt',\n",
              " '6283.txt',\n",
              " '23721.txt',\n",
              " '13151.txt',\n",
              " '370.txt',\n",
              " '22539.txt',\n",
              " '22589.txt',\n",
              " '14977.txt',\n",
              " '14319.txt',\n",
              " '18772.txt',\n",
              " '2702.txt',\n",
              " '7193.txt',\n",
              " '16618.txt',\n",
              " '2543.txt',\n",
              " '28880.txt',\n",
              " '15061.txt',\n",
              " '1403.txt',\n",
              " '26500.txt',\n",
              " '9333.txt',\n",
              " '10560.txt',\n",
              " '27337.txt',\n",
              " '20815.txt',\n",
              " '20263.txt',\n",
              " '2931.txt',\n",
              " '4097.txt',\n",
              " '19275.txt',\n",
              " '22238.txt',\n",
              " '8286.txt',\n",
              " '21708.txt',\n",
              " '336.txt',\n",
              " '28514.txt',\n",
              " '4688.txt',\n",
              " '25248.txt',\n",
              " '9127.txt',\n",
              " '10815.txt',\n",
              " '14565.txt',\n",
              " '24663.txt',\n",
              " '3493.txt',\n",
              " '19095.txt',\n",
              " '26165.txt',\n",
              " '16050.txt',\n",
              " '16783.txt',\n",
              " '22577.txt',\n",
              " '28095.txt',\n",
              " '12949.txt',\n",
              " '2006.txt',\n",
              " '3797.txt',\n",
              " '27054.txt',\n",
              " '572.txt',\n",
              " '19516.txt',\n",
              " '13621.txt',\n",
              " '13446.txt',\n",
              " '25294.txt',\n",
              " '23520.txt',\n",
              " '8658.txt',\n",
              " '27917.txt',\n",
              " '8772.txt',\n",
              " '24527.txt',\n",
              " '207.txt',\n",
              " '28341.txt',\n",
              " '5136.txt',\n",
              " '28424.txt',\n",
              " '20937.txt',\n",
              " '11292.txt',\n",
              " '262.txt',\n",
              " '25559.txt',\n",
              " '11176.txt',\n",
              " '15750.txt',\n",
              " '18395.txt',\n",
              " '23453.txt',\n",
              " '8796.txt',\n",
              " '13674.txt',\n",
              " '9907.txt',\n",
              " '7378.txt',\n",
              " '26798.txt',\n",
              " '22612.txt',\n",
              " '8816.txt',\n",
              " '24041.txt',\n",
              " '9858.txt',\n",
              " '17575.txt',\n",
              " '10843.txt',\n",
              " '15833.txt',\n",
              " '27023.txt',\n",
              " '24264.txt',\n",
              " '16226.txt',\n",
              " '1692.txt',\n",
              " '19547.txt',\n",
              " '23199.txt',\n",
              " '28548.txt',\n",
              " '12809.txt',\n",
              " '681.txt',\n",
              " '7637.txt',\n",
              " '15985.txt',\n",
              " '231.txt',\n",
              " '19956.txt',\n",
              " '21317.txt',\n",
              " '7842.txt',\n",
              " '19129.txt',\n",
              " '21567.txt',\n",
              " '23506.txt',\n",
              " '15399.txt',\n",
              " '27250.txt',\n",
              " '13390.txt',\n",
              " '14546.txt',\n",
              " '27537.txt',\n",
              " '15199.txt',\n",
              " '12141.txt',\n",
              " '22030.txt',\n",
              " '15469.txt',\n",
              " '11611.txt',\n",
              " '9192.txt',\n",
              " '10421.txt',\n",
              " '291.txt',\n",
              " '26053.txt',\n",
              " '2131.txt',\n",
              " '7651.txt',\n",
              " '13488.txt',\n",
              " '26755.txt',\n",
              " '11112.txt',\n",
              " '11187.txt',\n",
              " '9250.txt',\n",
              " '9959.txt',\n",
              " '8182.txt',\n",
              " '13757.txt',\n",
              " '8495.txt',\n",
              " '4516.txt',\n",
              " '2015.txt',\n",
              " '26469.txt',\n",
              " '4039.txt',\n",
              " '23968.txt',\n",
              " '13360.txt',\n",
              " '23454.txt',\n",
              " '27947.txt',\n",
              " '7570.txt',\n",
              " '14219.txt',\n",
              " '1254.txt',\n",
              " '2086.txt',\n",
              " '27606.txt',\n",
              " '24360.txt',\n",
              " '22175.txt',\n",
              " '22181.txt',\n",
              " '11021.txt',\n",
              " '11505.txt',\n",
              " '5341.txt',\n",
              " '859.txt',\n",
              " '24064.txt',\n",
              " '11294.txt',\n",
              " '1126.txt',\n",
              " '25177.txt',\n",
              " '25150.txt',\n",
              " '28221.txt',\n",
              " '20084.txt',\n",
              " '27476.txt',\n",
              " '24400.txt',\n",
              " '27068.txt',\n",
              " '8045.txt',\n",
              " '4123.txt',\n",
              " '28883.txt',\n",
              " '25850.txt',\n",
              " '18616.txt',\n",
              " '24849.txt',\n",
              " '22703.txt',\n",
              " '4836.txt',\n",
              " '25625.txt',\n",
              " '27148.txt',\n",
              " '8468.txt',\n",
              " '6798.txt',\n",
              " '27434.txt',\n",
              " '3367.txt',\n",
              " '13052.txt',\n",
              " '11647.txt',\n",
              " '2535.txt',\n",
              " '11838.txt',\n",
              " '7022.txt',\n",
              " '28414.txt',\n",
              " '8714.txt',\n",
              " '27854.txt',\n",
              " '3779.txt',\n",
              " '7807.txt',\n",
              " '16116.txt',\n",
              " '6448.txt',\n",
              " '1467.txt',\n",
              " '10704.txt',\n",
              " '10299.txt',\n",
              " '19792.txt',\n",
              " '14486.txt',\n",
              " '12745.txt',\n",
              " '11770.txt',\n",
              " '4251.txt',\n",
              " '3407.txt',\n",
              " '24374.txt',\n",
              " '12247.txt',\n",
              " '21358.txt',\n",
              " '24403.txt',\n",
              " '733.txt',\n",
              " '19891.txt',\n",
              " '4294.txt',\n",
              " '27655.txt',\n",
              " '11940.txt',\n",
              " '6308.txt',\n",
              " '3975.txt',\n",
              " '3121.txt',\n",
              " '14478.txt',\n",
              " '1697.txt',\n",
              " '3934.txt',\n",
              " '21151.txt',\n",
              " '6855.txt',\n",
              " '768.txt',\n",
              " '3265.txt',\n",
              " '7409.txt',\n",
              " '26237.txt',\n",
              " '24686.txt',\n",
              " '21184.txt',\n",
              " '12351.txt',\n",
              " '19040.txt',\n",
              " '7689.txt',\n",
              " '6025.txt',\n",
              " '27873.txt',\n",
              " '23494.txt',\n",
              " '9679.txt',\n",
              " '23095.txt',\n",
              " '13086.txt',\n",
              " '26101.txt',\n",
              " '6413.txt',\n",
              " '137.txt',\n",
              " '28651.txt',\n",
              " '5002.txt',\n",
              " '14558.txt',\n",
              " '999.txt',\n",
              " '15917.txt',\n",
              " '6505.txt',\n",
              " '8022.txt',\n",
              " '21867.txt',\n",
              " '27072.txt',\n",
              " '10733.txt',\n",
              " '16510.txt',\n",
              " '27503.txt',\n",
              " '27438.txt',\n",
              " '20776.txt',\n",
              " '3833.txt',\n",
              " '15667.txt',\n",
              " '7838.txt',\n",
              " '24503.txt',\n",
              " '2618.txt',\n",
              " '25053.txt',\n",
              " '17975.txt',\n",
              " '13587.txt',\n",
              " '13242.txt',\n",
              " '5008.txt',\n",
              " '14804.txt',\n",
              " '25963.txt',\n",
              " '25249.txt',\n",
              " '14039.txt',\n",
              " '20661.txt',\n",
              " '2381.txt',\n",
              " '26096.txt',\n",
              " '12102.txt',\n",
              " '19461.txt',\n",
              " '12820.txt',\n",
              " '10631.txt',\n",
              " '25918.txt',\n",
              " '1350.txt',\n",
              " '6721.txt',\n",
              " '7955.txt',\n",
              " '14722.txt',\n",
              " '6032.txt',\n",
              " '13903.txt',\n",
              " '12552.txt',\n",
              " '2276.txt',\n",
              " '11727.txt',\n",
              " '11654.txt',\n",
              " '11844.txt',\n",
              " '11890.txt',\n",
              " '5294.txt',\n",
              " '4376.txt',\n",
              " '17159.txt',\n",
              " '6252.txt',\n",
              " '11208.txt',\n",
              " '907.txt',\n",
              " '2494.txt',\n",
              " '14229.txt',\n",
              " '7133.txt',\n",
              " '24372.txt',\n",
              " '19984.txt',\n",
              " '3948.txt',\n",
              " '10123.txt',\n",
              " '20820.txt',\n",
              " '10189.txt',\n",
              " '6571.txt',\n",
              " '6239.txt',\n",
              " '2425.txt',\n",
              " '5044.txt',\n",
              " '22975.txt',\n",
              " '7696.txt',\n",
              " '2765.txt',\n",
              " '4854.txt',\n",
              " '8935.txt',\n",
              " '1827.txt',\n",
              " '7819.txt',\n",
              " '20592.txt',\n",
              " '20834.txt',\n",
              " '17733.txt',\n",
              " '2957.txt',\n",
              " '11194.txt',\n",
              " '7405.txt',\n",
              " '13458.txt',\n",
              " '24955.txt',\n",
              " '9238.txt',\n",
              " '23035.txt',\n",
              " '22003.txt',\n",
              " '10356.txt',\n",
              " '11941.txt',\n",
              " '8098.txt',\n",
              " '16081.txt',\n",
              " '10976.txt',\n",
              " '16270.txt',\n",
              " '17203.txt',\n",
              " '3492.txt',\n",
              " '23812.txt',\n",
              " '1950.txt',\n",
              " '4623.txt',\n",
              " '19587.txt',\n",
              " '27472.txt',\n",
              " '3361.txt',\n",
              " '27826.txt',\n",
              " '19856.txt',\n",
              " '13191.txt',\n",
              " '18798.txt',\n",
              " '14823.txt',\n",
              " '9499.txt',\n",
              " '23684.txt',\n",
              " '10931.txt',\n",
              " '7180.txt',\n",
              " '17598.txt',\n",
              " '11771.txt',\n",
              " '14152.txt',\n",
              " '24814.txt',\n",
              " '28688.txt',\n",
              " '24134.txt',\n",
              " '5758.txt',\n",
              " '21721.txt',\n",
              " '12347.txt',\n",
              " '14339.txt',\n",
              " '26208.txt',\n",
              " '3109.txt',\n",
              " '22746.txt',\n",
              " '26170.txt',\n",
              " '25791.txt',\n",
              " '23507.txt',\n",
              " '21449.txt',\n",
              " '27926.txt',\n",
              " '23396.txt',\n",
              " '28667.txt',\n",
              " '25839.txt',\n",
              " '16914.txt',\n",
              " '3513.txt',\n",
              " '12462.txt',\n",
              " '12950.txt',\n",
              " '26474.txt',\n",
              " '9690.txt',\n",
              " '28363.txt',\n",
              " '1908.txt',\n",
              " '26079.txt',\n",
              " '2608.txt',\n",
              " '19268.txt',\n",
              " '22754.txt',\n",
              " '26675.txt',\n",
              " '19861.txt',\n",
              " '10168.txt',\n",
              " '7375.txt',\n",
              " '28717.txt',\n",
              " '14914.txt',\n",
              " '23596.txt',\n",
              " '18784.txt',\n",
              " '14115.txt',\n",
              " '16963.txt',\n",
              " '6519.txt',\n",
              " '16471.txt',\n",
              " '25433.txt',\n",
              " '9995.txt',\n",
              " '13208.txt',\n",
              " '9620.txt',\n",
              " '2389.txt',\n",
              " '15132.txt',\n",
              " '25493.txt',\n",
              " '12398.txt',\n",
              " '23449.txt',\n",
              " '3104.txt',\n",
              " '20626.txt',\n",
              " '14504.txt',\n",
              " '845.txt',\n",
              " '23434.txt',\n",
              " '9372.txt',\n",
              " '2644.txt',\n",
              " '5602.txt',\n",
              " '18567.txt',\n",
              " '7580.txt',\n",
              " '7067.txt',\n",
              " '23797.txt',\n",
              " '8936.txt',\n",
              " '9567.txt',\n",
              " '14195.txt',\n",
              " '5683.txt',\n",
              " '9584.txt',\n",
              " '18327.txt',\n",
              " '6876.txt',\n",
              " '23128.txt',\n",
              " '3633.txt',\n",
              " '15852.txt',\n",
              " '28706.txt',\n",
              " '20339.txt',\n",
              " '13181.txt',\n",
              " '16918.txt',\n",
              " '20971.txt',\n",
              " '10105.txt',\n",
              " '24791.txt',\n",
              " '7450.txt',\n",
              " '26920.txt',\n",
              " '27138.txt',\n",
              " '25402.txt',\n",
              " '5871.txt',\n",
              " '12960.txt',\n",
              " '10972.txt',\n",
              " ...]"
            ]
          },
          "metadata": {},
          "execution_count": 5
        }
      ]
    },
    {
      "cell_type": "code",
      "source": [
        "neg_path = path + '/arabic_tweets/neg'\n",
        "pos_path = path + '/arabic_tweets/pos'\n",
        "\n",
        "data = []"
      ],
      "metadata": {
        "id": "mDdsDowd78Ny"
      },
      "execution_count": null,
      "outputs": []
    },
    {
      "cell_type": "code",
      "source": [
        "for filename in os.listdir(neg_path):\n",
        "    if filename.endswith(\".txt\"):\n",
        "        with open(os.path.join(neg_path, filename), \"r\", encoding=\"utf-8\") as f:\n",
        "            text = f.read().strip()\n",
        "            data.append([text, \"neg\"])\n",
        "\n",
        "for filename in os.listdir(pos_path):\n",
        "    if filename.endswith(\".txt\"):\n",
        "        with open(os.path.join(pos_path, filename), \"r\", encoding=\"utf-8\") as f:\n",
        "            text = f.read().strip()\n",
        "            data.append([text, \"pos\"])\n",
        "\n",
        "df = pd.DataFrame(data, columns=[\"text\", \"label\"])"
      ],
      "metadata": {
        "id": "6E5XZl9p8j_a"
      },
      "execution_count": null,
      "outputs": []
    },
    {
      "cell_type": "code",
      "source": [
        "df.head()"
      ],
      "metadata": {
        "colab": {
          "base_uri": "https://localhost:8080/",
          "height": 206
        },
        "id": "Om1YN4cK8viN",
        "outputId": "eb060cd5-6018-473d-e205-c674ba9e86a7"
      },
      "execution_count": null,
      "outputs": [
        {
          "output_type": "execute_result",
          "data": {
            "text/plain": [
              "                                                text label\n",
              "0  والله الثلاثة اتفه من بعض العروس كريهة شو يعني...   neg\n",
              "1                                  يا صباح الارهاق 😰   neg\n",
              "2               اصلا واضح انه كذا من صورة بروفايلك 😭   neg\n",
              "3                  بالحيل.. شر وشرير اللهم ياكافي. 😡   neg\n",
              "4                         ما في الا قوة حبوب زرقاء 😭   neg"
            ],
            "text/html": [
              "\n",
              "  <div id=\"df-867b83b2-978e-4e2c-b5e1-e179723a4e8e\" class=\"colab-df-container\">\n",
              "    <div>\n",
              "<style scoped>\n",
              "    .dataframe tbody tr th:only-of-type {\n",
              "        vertical-align: middle;\n",
              "    }\n",
              "\n",
              "    .dataframe tbody tr th {\n",
              "        vertical-align: top;\n",
              "    }\n",
              "\n",
              "    .dataframe thead th {\n",
              "        text-align: right;\n",
              "    }\n",
              "</style>\n",
              "<table border=\"1\" class=\"dataframe\">\n",
              "  <thead>\n",
              "    <tr style=\"text-align: right;\">\n",
              "      <th></th>\n",
              "      <th>text</th>\n",
              "      <th>label</th>\n",
              "    </tr>\n",
              "  </thead>\n",
              "  <tbody>\n",
              "    <tr>\n",
              "      <th>0</th>\n",
              "      <td>والله الثلاثة اتفه من بعض العروس كريهة شو يعني...</td>\n",
              "      <td>neg</td>\n",
              "    </tr>\n",
              "    <tr>\n",
              "      <th>1</th>\n",
              "      <td>يا صباح الارهاق 😰</td>\n",
              "      <td>neg</td>\n",
              "    </tr>\n",
              "    <tr>\n",
              "      <th>2</th>\n",
              "      <td>اصلا واضح انه كذا من صورة بروفايلك 😭</td>\n",
              "      <td>neg</td>\n",
              "    </tr>\n",
              "    <tr>\n",
              "      <th>3</th>\n",
              "      <td>بالحيل.. شر وشرير اللهم ياكافي. 😡</td>\n",
              "      <td>neg</td>\n",
              "    </tr>\n",
              "    <tr>\n",
              "      <th>4</th>\n",
              "      <td>ما في الا قوة حبوب زرقاء 😭</td>\n",
              "      <td>neg</td>\n",
              "    </tr>\n",
              "  </tbody>\n",
              "</table>\n",
              "</div>\n",
              "    <div class=\"colab-df-buttons\">\n",
              "\n",
              "  <div class=\"colab-df-container\">\n",
              "    <button class=\"colab-df-convert\" onclick=\"convertToInteractive('df-867b83b2-978e-4e2c-b5e1-e179723a4e8e')\"\n",
              "            title=\"Convert this dataframe to an interactive table.\"\n",
              "            style=\"display:none;\">\n",
              "\n",
              "  <svg xmlns=\"http://www.w3.org/2000/svg\" height=\"24px\" viewBox=\"0 -960 960 960\">\n",
              "    <path d=\"M120-120v-720h720v720H120Zm60-500h600v-160H180v160Zm220 220h160v-160H400v160Zm0 220h160v-160H400v160ZM180-400h160v-160H180v160Zm440 0h160v-160H620v160ZM180-180h160v-160H180v160Zm440 0h160v-160H620v160Z\"/>\n",
              "  </svg>\n",
              "    </button>\n",
              "\n",
              "  <style>\n",
              "    .colab-df-container {\n",
              "      display:flex;\n",
              "      gap: 12px;\n",
              "    }\n",
              "\n",
              "    .colab-df-convert {\n",
              "      background-color: #E8F0FE;\n",
              "      border: none;\n",
              "      border-radius: 50%;\n",
              "      cursor: pointer;\n",
              "      display: none;\n",
              "      fill: #1967D2;\n",
              "      height: 32px;\n",
              "      padding: 0 0 0 0;\n",
              "      width: 32px;\n",
              "    }\n",
              "\n",
              "    .colab-df-convert:hover {\n",
              "      background-color: #E2EBFA;\n",
              "      box-shadow: 0px 1px 2px rgba(60, 64, 67, 0.3), 0px 1px 3px 1px rgba(60, 64, 67, 0.15);\n",
              "      fill: #174EA6;\n",
              "    }\n",
              "\n",
              "    .colab-df-buttons div {\n",
              "      margin-bottom: 4px;\n",
              "    }\n",
              "\n",
              "    [theme=dark] .colab-df-convert {\n",
              "      background-color: #3B4455;\n",
              "      fill: #D2E3FC;\n",
              "    }\n",
              "\n",
              "    [theme=dark] .colab-df-convert:hover {\n",
              "      background-color: #434B5C;\n",
              "      box-shadow: 0px 1px 3px 1px rgba(0, 0, 0, 0.15);\n",
              "      filter: drop-shadow(0px 1px 2px rgba(0, 0, 0, 0.3));\n",
              "      fill: #FFFFFF;\n",
              "    }\n",
              "  </style>\n",
              "\n",
              "    <script>\n",
              "      const buttonEl =\n",
              "        document.querySelector('#df-867b83b2-978e-4e2c-b5e1-e179723a4e8e button.colab-df-convert');\n",
              "      buttonEl.style.display =\n",
              "        google.colab.kernel.accessAllowed ? 'block' : 'none';\n",
              "\n",
              "      async function convertToInteractive(key) {\n",
              "        const element = document.querySelector('#df-867b83b2-978e-4e2c-b5e1-e179723a4e8e');\n",
              "        const dataTable =\n",
              "          await google.colab.kernel.invokeFunction('convertToInteractive',\n",
              "                                                    [key], {});\n",
              "        if (!dataTable) return;\n",
              "\n",
              "        const docLinkHtml = 'Like what you see? Visit the ' +\n",
              "          '<a target=\"_blank\" href=https://colab.research.google.com/notebooks/data_table.ipynb>data table notebook</a>'\n",
              "          + ' to learn more about interactive tables.';\n",
              "        element.innerHTML = '';\n",
              "        dataTable['output_type'] = 'display_data';\n",
              "        await google.colab.output.renderOutput(dataTable, element);\n",
              "        const docLink = document.createElement('div');\n",
              "        docLink.innerHTML = docLinkHtml;\n",
              "        element.appendChild(docLink);\n",
              "      }\n",
              "    </script>\n",
              "  </div>\n",
              "\n",
              "\n",
              "    <div id=\"df-634cbceb-219f-4a99-9074-6a5579d740d5\">\n",
              "      <button class=\"colab-df-quickchart\" onclick=\"quickchart('df-634cbceb-219f-4a99-9074-6a5579d740d5')\"\n",
              "                title=\"Suggest charts\"\n",
              "                style=\"display:none;\">\n",
              "\n",
              "<svg xmlns=\"http://www.w3.org/2000/svg\" height=\"24px\"viewBox=\"0 0 24 24\"\n",
              "     width=\"24px\">\n",
              "    <g>\n",
              "        <path d=\"M19 3H5c-1.1 0-2 .9-2 2v14c0 1.1.9 2 2 2h14c1.1 0 2-.9 2-2V5c0-1.1-.9-2-2-2zM9 17H7v-7h2v7zm4 0h-2V7h2v10zm4 0h-2v-4h2v4z\"/>\n",
              "    </g>\n",
              "</svg>\n",
              "      </button>\n",
              "\n",
              "<style>\n",
              "  .colab-df-quickchart {\n",
              "      --bg-color: #E8F0FE;\n",
              "      --fill-color: #1967D2;\n",
              "      --hover-bg-color: #E2EBFA;\n",
              "      --hover-fill-color: #174EA6;\n",
              "      --disabled-fill-color: #AAA;\n",
              "      --disabled-bg-color: #DDD;\n",
              "  }\n",
              "\n",
              "  [theme=dark] .colab-df-quickchart {\n",
              "      --bg-color: #3B4455;\n",
              "      --fill-color: #D2E3FC;\n",
              "      --hover-bg-color: #434B5C;\n",
              "      --hover-fill-color: #FFFFFF;\n",
              "      --disabled-bg-color: #3B4455;\n",
              "      --disabled-fill-color: #666;\n",
              "  }\n",
              "\n",
              "  .colab-df-quickchart {\n",
              "    background-color: var(--bg-color);\n",
              "    border: none;\n",
              "    border-radius: 50%;\n",
              "    cursor: pointer;\n",
              "    display: none;\n",
              "    fill: var(--fill-color);\n",
              "    height: 32px;\n",
              "    padding: 0;\n",
              "    width: 32px;\n",
              "  }\n",
              "\n",
              "  .colab-df-quickchart:hover {\n",
              "    background-color: var(--hover-bg-color);\n",
              "    box-shadow: 0 1px 2px rgba(60, 64, 67, 0.3), 0 1px 3px 1px rgba(60, 64, 67, 0.15);\n",
              "    fill: var(--button-hover-fill-color);\n",
              "  }\n",
              "\n",
              "  .colab-df-quickchart-complete:disabled,\n",
              "  .colab-df-quickchart-complete:disabled:hover {\n",
              "    background-color: var(--disabled-bg-color);\n",
              "    fill: var(--disabled-fill-color);\n",
              "    box-shadow: none;\n",
              "  }\n",
              "\n",
              "  .colab-df-spinner {\n",
              "    border: 2px solid var(--fill-color);\n",
              "    border-color: transparent;\n",
              "    border-bottom-color: var(--fill-color);\n",
              "    animation:\n",
              "      spin 1s steps(1) infinite;\n",
              "  }\n",
              "\n",
              "  @keyframes spin {\n",
              "    0% {\n",
              "      border-color: transparent;\n",
              "      border-bottom-color: var(--fill-color);\n",
              "      border-left-color: var(--fill-color);\n",
              "    }\n",
              "    20% {\n",
              "      border-color: transparent;\n",
              "      border-left-color: var(--fill-color);\n",
              "      border-top-color: var(--fill-color);\n",
              "    }\n",
              "    30% {\n",
              "      border-color: transparent;\n",
              "      border-left-color: var(--fill-color);\n",
              "      border-top-color: var(--fill-color);\n",
              "      border-right-color: var(--fill-color);\n",
              "    }\n",
              "    40% {\n",
              "      border-color: transparent;\n",
              "      border-right-color: var(--fill-color);\n",
              "      border-top-color: var(--fill-color);\n",
              "    }\n",
              "    60% {\n",
              "      border-color: transparent;\n",
              "      border-right-color: var(--fill-color);\n",
              "    }\n",
              "    80% {\n",
              "      border-color: transparent;\n",
              "      border-right-color: var(--fill-color);\n",
              "      border-bottom-color: var(--fill-color);\n",
              "    }\n",
              "    90% {\n",
              "      border-color: transparent;\n",
              "      border-bottom-color: var(--fill-color);\n",
              "    }\n",
              "  }\n",
              "</style>\n",
              "\n",
              "      <script>\n",
              "        async function quickchart(key) {\n",
              "          const quickchartButtonEl =\n",
              "            document.querySelector('#' + key + ' button');\n",
              "          quickchartButtonEl.disabled = true;  // To prevent multiple clicks.\n",
              "          quickchartButtonEl.classList.add('colab-df-spinner');\n",
              "          try {\n",
              "            const charts = await google.colab.kernel.invokeFunction(\n",
              "                'suggestCharts', [key], {});\n",
              "          } catch (error) {\n",
              "            console.error('Error during call to suggestCharts:', error);\n",
              "          }\n",
              "          quickchartButtonEl.classList.remove('colab-df-spinner');\n",
              "          quickchartButtonEl.classList.add('colab-df-quickchart-complete');\n",
              "        }\n",
              "        (() => {\n",
              "          let quickchartButtonEl =\n",
              "            document.querySelector('#df-634cbceb-219f-4a99-9074-6a5579d740d5 button');\n",
              "          quickchartButtonEl.style.display =\n",
              "            google.colab.kernel.accessAllowed ? 'block' : 'none';\n",
              "        })();\n",
              "      </script>\n",
              "    </div>\n",
              "\n",
              "    </div>\n",
              "  </div>\n"
            ],
            "application/vnd.google.colaboratory.intrinsic+json": {
              "type": "dataframe",
              "variable_name": "df",
              "summary": "{\n  \"name\": \"df\",\n  \"rows\": 58751,\n  \"fields\": [\n    {\n      \"column\": \"text\",\n      \"properties\": {\n        \"dtype\": \"string\",\n        \"num_unique_values\": 36723,\n        \"samples\": [\n          \"\\u0627\\u0628\\u0627 \\u0627\\u0631\\u0642\\u062f \\u064a\\u0627\\u062e\\u062e :) \\u0645 \\u0634\\u0628\\u0639\\u062a\",\n          \"\\u0635\\u0628\\u0627\\u062d\\u0643 \\u0633\\u0639\\u064a\\u062f \\ud83c\\udf39\",\n          \"\\u0627\\u0632\\u0627\\u064a \\u064a\\u0639\\u0646\\u064a \\u0627\\u0628\\u0642\\u064a \\u0646\\u0627\\u0632\\u0644 \\u0627\\u062c\\u064a\\u0628 \\u0627\\u0643\\u0644 \\u0627\\u0646\\u0633\\u064a \\u0648\\u0627\\u062c\\u064a\\u0628 \\u0633\\u062c\\u0627\\u064a\\u0631 \\u0628\\u0633 \\u0648\\u0627\\u0637\\u0644\\u0639 \\u064a\\u0639\\u0646\\u064a \\u0627\\u064a\\u0647 \\u0627\\u0646\\u0633\\u064a \\u0627\\u0646 \\u0627\\u0646\\u0627 \\u062c\\u0639\\u0627\\u0646 \\u0645\\u0634 \\u0641\\u0627\\u0647\\u0645 \\ud83d\\ude11\"\n        ],\n        \"semantic_type\": \"\",\n        \"description\": \"\"\n      }\n    },\n    {\n      \"column\": \"label\",\n      \"properties\": {\n        \"dtype\": \"category\",\n        \"num_unique_values\": 2,\n        \"samples\": [\n          \"pos\",\n          \"neg\"\n        ],\n        \"semantic_type\": \"\",\n        \"description\": \"\"\n      }\n    }\n  ]\n}"
            }
          },
          "metadata": {},
          "execution_count": 8
        }
      ]
    },
    {
      "cell_type": "code",
      "source": [
        "df.shape"
      ],
      "metadata": {
        "colab": {
          "base_uri": "https://localhost:8080/"
        },
        "id": "k54aymYI83u0",
        "outputId": "26eaebae-cbb7-48c8-a10c-71b88a620921"
      },
      "execution_count": null,
      "outputs": [
        {
          "output_type": "execute_result",
          "data": {
            "text/plain": [
              "(58751, 2)"
            ]
          },
          "metadata": {},
          "execution_count": 9
        }
      ]
    },
    {
      "cell_type": "code",
      "source": [
        "train_df, temp_df = train_test_split(\n",
        "    df,\n",
        "    test_size=0.3,\n",
        "    stratify=df[\"label\"],\n",
        "    random_state=42\n",
        ")\n"
      ],
      "metadata": {
        "id": "ExIwjEOc867i"
      },
      "execution_count": null,
      "outputs": []
    },
    {
      "cell_type": "code",
      "source": [
        "valid_df, test_df = train_test_split(\n",
        "    temp_df,\n",
        "    test_size=0.5,\n",
        "    stratify=temp_df[\"label\"], random_state=42\n",
        ")"
      ],
      "metadata": {
        "id": "LhJswB1C9rR1"
      },
      "execution_count": null,
      "outputs": []
    },
    {
      "cell_type": "code",
      "source": [
        "print(\"Train:\", len(train_df))\n",
        "print(\"Test :\", len(test_df))\n",
        "print(\"Validation \", len(valid_df))"
      ],
      "metadata": {
        "colab": {
          "base_uri": "https://localhost:8080/"
        },
        "id": "e8fWepD593tw",
        "outputId": "d85eabe5-59fd-4e28-b287-551e4f5a3501"
      },
      "execution_count": null,
      "outputs": [
        {
          "output_type": "stream",
          "name": "stdout",
          "text": [
            "Train: 41125\n",
            "Test : 8813\n",
            "Validation  8813\n"
          ]
        }
      ]
    },
    {
      "cell_type": "code",
      "source": [
        "plt.figure(figsize=(6,4))\n",
        "sns.countplot(x=train_df['label'])\n",
        "\n",
        "plt.title(\"Class Distribution\")\n",
        "plt.xlabel(\"Class\")\n",
        "plt.ylabel(\"Count\")\n",
        "plt.show()"
      ],
      "metadata": {
        "colab": {
          "base_uri": "https://localhost:8080/",
          "height": 410
        },
        "id": "pbzh_qMi-Cbs",
        "outputId": "120dc866-5715-4f24-d67d-5184c88b8efc"
      },
      "execution_count": null,
      "outputs": [
        {
          "output_type": "display_data",
          "data": {
            "text/plain": [
              "<Figure size 600x400 with 1 Axes>"
            ],
            "image/png": "[encoded data removed]"
          },
          "metadata": {}
        }
      ]
    },
    {
      "cell_type": "code",
      "source": [
        "train_df.isnull().sum()"
      ],
      "metadata": {
        "colab": {
          "base_uri": "https://localhost:8080/",
          "height": 147
        },
        "id": "UXbBggQ8-NtZ",
        "outputId": "422c5843-18e5-4491-b406-ccb32f8fa78a"
      },
      "execution_count": null,
      "outputs": [
        {
          "output_type": "execute_result",
          "data": {
            "text/plain": [
              "text     0\n",
              "label    0\n",
              "dtype: int64"
            ],
            "text/html": [
              "<div>\n",
              "<style scoped>\n",
              "    .dataframe tbody tr th:only-of-type {\n",
              "        vertical-align: middle;\n",
              "    }\n",
              "\n",
              "    .dataframe tbody tr th {\n",
              "        vertical-align: top;\n",
              "    }\n",
              "\n",
              "    .dataframe thead th {\n",
              "        text-align: right;\n",
              "    }\n",
              "</style>\n",
              "<table border=\"1\" class=\"dataframe\">\n",
              "  <thead>\n",
              "    <tr style=\"text-align: right;\">\n",
              "      <th></th>\n",
              "      <th>0</th>\n",
              "    </tr>\n",
              "  </thead>\n",
              "  <tbody>\n",
              "    <tr>\n",
              "      <th>text</th>\n",
              "      <td>0</td>\n",
              "    </tr>\n",
              "    <tr>\n",
              "      <th>label</th>\n",
              "      <td>0</td>\n",
              "    </tr>\n",
              "  </tbody>\n",
              "</table>\n",
              "</div><br><label><b>dtype:</b> int64</label>"
            ]
          },
          "metadata": {},
          "execution_count": 14
        }
      ]
    },
    {
      "cell_type": "code",
      "source": [
        "test_df.isnull().sum()"
      ],
      "metadata": {
        "colab": {
          "base_uri": "https://localhost:8080/",
          "height": 147
        },
        "id": "Hoy_5SH9-ZZd",
        "outputId": "e255ab98-a9e8-4fc8-94da-4f4f9158e24d"
      },
      "execution_count": null,
      "outputs": [
        {
          "output_type": "execute_result",
          "data": {
            "text/plain": [
              "text     0\n",
              "label    0\n",
              "dtype: int64"
            ],
            "text/html": [
              "<div>\n",
              "<style scoped>\n",
              "    .dataframe tbody tr th:only-of-type {\n",
              "        vertical-align: middle;\n",
              "    }\n",
              "\n",
              "    .dataframe tbody tr th {\n",
              "        vertical-align: top;\n",
              "    }\n",
              "\n",
              "    .dataframe thead th {\n",
              "        text-align: right;\n",
              "    }\n",
              "</style>\n",
              "<table border=\"1\" class=\"dataframe\">\n",
              "  <thead>\n",
              "    <tr style=\"text-align: right;\">\n",
              "      <th></th>\n",
              "      <th>0</th>\n",
              "    </tr>\n",
              "  </thead>\n",
              "  <tbody>\n",
              "    <tr>\n",
              "      <th>text</th>\n",
              "      <td>0</td>\n",
              "    </tr>\n",
              "    <tr>\n",
              "      <th>label</th>\n",
              "      <td>0</td>\n",
              "    </tr>\n",
              "  </tbody>\n",
              "</table>\n",
              "</div><br><label><b>dtype:</b> int64</label>"
            ]
          },
          "metadata": {},
          "execution_count": 15
        }
      ]
    },
    {
      "cell_type": "code",
      "source": [
        "import re\n",
        "def remove_tags(text):\n",
        "  pattern=re.compile('<.*?>')\n",
        "  return pattern.sub(' ',text)"
      ],
      "metadata": {
        "id": "0buLhDvCAJll"
      },
      "execution_count": null,
      "outputs": []
    },
    {
      "cell_type": "code",
      "metadata": {
        "colab": {
          "base_uri": "https://localhost:8080/"
        },
        "id": "ff9fbd6b",
        "outputId": "e91af9e3-a09a-4c11-f82a-3a7c4a9e079d"
      },
      "source": [
        "train_df['text']=train_df['text'].progress_apply(lambda x:remove_tags(x))\n",
        "test_df['text']=test_df['text'].progress_apply(lambda x:remove_tags(x))\n",
        "valid_df['text']=valid_df['text'].progress_apply(lambda x:remove_tags(x))"
      ],
      "execution_count": null,
      "outputs": [
        {
          "output_type": "stream",
          "name": "stderr",
          "text": [
            "100%|██████████| 41125/41125 [00:00<00:00, 660175.87it/s]\n",
            "100%|██████████| 8813/8813 [00:00<00:00, 420642.74it/s]\n",
            "100%|██████████| 8813/8813 [00:00<00:00, 386418.44it/s]\n"
          ]
        }
      ]
    },
    {
      "cell_type": "code",
      "source": [
        "def remove_urls(text):\n",
        "  pattern=re.compile(r'https?://\\S+|www\\.\\S+')\n",
        "  return pattern.sub(' ',text)"
      ],
      "metadata": {
        "id": "ej29Q2F6Ai8f"
      },
      "execution_count": null,
      "outputs": []
    },
    {
      "cell_type": "code",
      "source": [
        "train_df['text']=train_df['text'].progress_apply(lambda x:remove_urls(x))\n",
        "test_df['text']=test_df['text'].progress_apply(lambda x:remove_urls(x))\n",
        "valid_df['text']=valid_df['text'].progress_apply(lambda x:remove_urls(x))"
      ],
      "metadata": {
        "colab": {
          "base_uri": "https://localhost:8080/"
        },
        "id": "JsvgYcGADCw2",
        "outputId": "09590ea6-3ab5-43ad-d2f5-0cb44acfa77c"
      },
      "execution_count": null,
      "outputs": [
        {
          "output_type": "stream",
          "name": "stderr",
          "text": [
            "100%|██████████| 41125/41125 [00:00<00:00, 453934.98it/s]\n",
            "100%|██████████| 8813/8813 [00:00<00:00, 459162.29it/s]\n",
            "100%|██████████| 8813/8813 [00:00<00:00, 443340.50it/s]\n"
          ]
        }
      ]
    },
    {
      "cell_type": "code",
      "source": [
        "! pip install emoji"
      ],
      "metadata": {
        "colab": {
          "base_uri": "https://localhost:8080/"
        },
        "id": "wldRSo_kDWxY",
        "outputId": "c092db51-9d11-4fb3-a9c4-1938ed220d55"
      },
      "execution_count": null,
      "outputs": [
        {
          "output_type": "stream",
          "name": "stdout",
          "text": [
            "Collecting emoji\n",
            "  Downloading emoji-2.14.1-py3-none-any.whl.metadata (5.7 kB)\n",
            "Downloading emoji-2.14.1-py3-none-any.whl (590 kB)\n",
            "\u001b[?25l   \u001b[90m━━━━━━━━━━━━━━━━━━━━━━━━━━━━━━━━━━━━━━━━\u001b[0m \u001b[32m0.0/590.6 kB\u001b[0m \u001b[31m?\u001b[0m eta \u001b[36m-:--:--\u001b[0m\r\u001b[2K   \u001b[90m━━━━━━━━━━━━━━━━━━━━━━━━━━━━━━━━━━━━━━━━\u001b[0m \u001b[32m590.6/590.6 kB\u001b[0m \u001b[31m40.3 MB/s\u001b[0m eta \u001b[36m0:00:00\u001b[0m\n",
            "\u001b[?25hInstalling collected packages: emoji\n",
            "Successfully installed emoji-2.14.1\n"
          ]
        }
      ]
    },
    {
      "cell_type": "code",
      "source": [
        "import emoji"
      ],
      "metadata": {
        "id": "jadB5LQDDZ1k"
      },
      "execution_count": null,
      "outputs": []
    },
    {
      "cell_type": "code",
      "source": [
        "def remove_emoji(text):\n",
        "  return emoji.demojize(text)"
      ],
      "metadata": {
        "id": "PKjJvamaDlGt"
      },
      "execution_count": null,
      "outputs": []
    },
    {
      "cell_type": "code",
      "source": [
        "train_df['text']=train_df['text'].progress_apply(lambda x:remove_emoji(x))\n",
        "test_df['text']=test_df['text'].progress_apply(lambda x:remove_emoji(x))\n",
        "valid_df['text']=valid_df['text'].progress_apply(lambda x:remove_emoji(x))"
      ],
      "metadata": {
        "colab": {
          "base_uri": "https://localhost:8080/"
        },
        "id": "OdkBzYcgDncs",
        "outputId": "78668b61-8c01-4100-f037-21fd13ea6063"
      },
      "execution_count": null,
      "outputs": [
        {
          "output_type": "stream",
          "name": "stderr",
          "text": [
            "100%|██████████| 41125/41125 [00:03<00:00, 10949.19it/s]\n",
            "100%|██████████| 8813/8813 [00:01<00:00, 8094.21it/s]\n",
            "100%|██████████| 8813/8813 [00:01<00:00, 7281.76it/s]\n"
          ]
        }
      ]
    },
    {
      "cell_type": "code",
      "source": [
        "def remove_digits(text):\n",
        "  pattern=re.compile(r'\\d+')\n",
        "  return pattern.sub(' ',text)"
      ],
      "metadata": {
        "id": "oUky2tu_EEsd"
      },
      "execution_count": null,
      "outputs": []
    },
    {
      "cell_type": "code",
      "source": [
        "train_df['text']=train_df['text'].progress_apply(lambda x:remove_digits(x))\n",
        "test_df['text']=test_df['text'].progress_apply(lambda x:remove_digits(x))\n",
        "valid_df['text']=valid_df['text'].progress_apply(lambda x:remove_digits(x))"
      ],
      "metadata": {
        "colab": {
          "base_uri": "https://localhost:8080/"
        },
        "id": "q1BCE7W7EKiC",
        "outputId": "e888c266-105a-482d-86a5-1d7dec9e0341"
      },
      "execution_count": null,
      "outputs": [
        {
          "output_type": "stream",
          "name": "stderr",
          "text": [
            "100%|██████████| 41125/41125 [00:00<00:00, 104225.97it/s]\n",
            "100%|██████████| 8813/8813 [00:00<00:00, 304647.47it/s]\n",
            "100%|██████████| 8813/8813 [00:00<00:00, 306814.53it/s]\n"
          ]
        }
      ]
    },
    {
      "cell_type": "code",
      "source": [
        "pun=string.punctuation\n",
        "pun"
      ],
      "metadata": {
        "colab": {
          "base_uri": "https://localhost:8080/",
          "height": 36
        },
        "id": "jy8zSab4EVrZ",
        "outputId": "a7bf31df-1ab0-4296-c421-f842dfa979be"
      },
      "execution_count": null,
      "outputs": [
        {
          "output_type": "execute_result",
          "data": {
            "text/plain": [
              "'!\"#$%&\\'()*+,-./:;<=>?@[\\\\]^_`{|}~'"
            ],
            "application/vnd.google.colaboratory.intrinsic+json": {
              "type": "string"
            }
          },
          "metadata": {},
          "execution_count": 26
        }
      ]
    },
    {
      "cell_type": "code",
      "source": [
        "def remove_pun(text):\n",
        "  for char in pun:\n",
        "    text=text.replace(char,'')\n",
        "  return text"
      ],
      "metadata": {
        "id": "rOjEzozSEctT"
      },
      "execution_count": null,
      "outputs": []
    },
    {
      "cell_type": "code",
      "source": [
        "train_df['text']=train_df['text'].progress_apply(lambda x:remove_pun(x))\n",
        "test_df['text']=test_df['text'].progress_apply(lambda x:remove_pun(x))\n",
        "valid_df['text']=valid_df['text'].progress_apply(lambda x:remove_pun(x))"
      ],
      "metadata": {
        "colab": {
          "base_uri": "https://localhost:8080/"
        },
        "id": "eFIBQKJXEe-4",
        "outputId": "5bac93ef-d782-4d09-ecd2-8db5a0ef4599"
      },
      "execution_count": null,
      "outputs": [
        {
          "output_type": "stream",
          "name": "stderr",
          "text": [
            "100%|██████████| 41125/41125 [00:00<00:00, 117649.18it/s]\n",
            "100%|██████████| 8813/8813 [00:00<00:00, 101813.48it/s]\n",
            "100%|██████████| 8813/8813 [00:00<00:00, 171523.77it/s]\n"
          ]
        }
      ]
    },
    {
      "cell_type": "code",
      "source": [
        "import nltk\n",
        "nltk.download('stopwords')\n"
      ],
      "metadata": {
        "colab": {
          "base_uri": "https://localhost:8080/"
        },
        "id": "aTcfoiBvEoEU",
        "outputId": "0c1a84ad-f4dd-49d8-a8d1-d8d83ee76c6e"
      },
      "execution_count": null,
      "outputs": [
        {
          "output_type": "stream",
          "name": "stderr",
          "text": [
            "[nltk_data] Downloading package stopwords to /root/nltk_data...\n",
            "[nltk_data]   Unzipping corpora/stopwords.zip.\n"
          ]
        },
        {
          "output_type": "execute_result",
          "data": {
            "text/plain": [
              "True"
            ]
          },
          "metadata": {},
          "execution_count": 29
        }
      ]
    },
    {
      "cell_type": "code",
      "source": [
        "from nltk.corpus import stopwords\n",
        "stopwords=stopwords.words('english','arabic')"
      ],
      "metadata": {
        "id": "1MtrJy6ZE890"
      },
      "execution_count": null,
      "outputs": []
    },
    {
      "cell_type": "code",
      "source": [
        "def remove_stopwords(text):\n",
        "  return \" \".join([word for word in text.split() if word not in stopwords])"
      ],
      "metadata": {
        "id": "rzw-M6V-EsfH"
      },
      "execution_count": null,
      "outputs": []
    },
    {
      "cell_type": "code",
      "source": [
        "train_df['text']=train_df['text'].progress_apply(lambda x:remove_stopwords(x))\n",
        "test_df['text']=test_df['text'].progress_apply(lambda x:remove_stopwords(x))\n",
        "valid_df['text']=valid_df['text'].progress_apply(lambda x:remove_stopwords(x))"
      ],
      "metadata": {
        "colab": {
          "base_uri": "https://localhost:8080/"
        },
        "id": "cmPeB4sVFA5I",
        "outputId": "d88e8164-adfd-4013-8a39-8093c0d17057"
      },
      "execution_count": null,
      "outputs": [
        {
          "output_type": "stream",
          "name": "stderr",
          "text": [
            "100%|██████████| 41125/41125 [00:01<00:00, 30319.88it/s]\n",
            "100%|██████████| 8813/8813 [00:00<00:00, 24252.93it/s]\n",
            "100%|██████████| 8813/8813 [00:00<00:00, 17637.00it/s]\n"
          ]
        }
      ]
    },
    {
      "cell_type": "code",
      "source": [
        "nltk.download('punkt_tab')\n"
      ],
      "metadata": {
        "colab": {
          "base_uri": "https://localhost:8080/"
        },
        "id": "1A-NO1SQFHko",
        "outputId": "a64abd0a-5e49-4294-9c47-53098fb8a0ae"
      },
      "execution_count": null,
      "outputs": [
        {
          "output_type": "stream",
          "name": "stderr",
          "text": [
            "[nltk_data] Downloading package punkt_tab to /root/nltk_data...\n",
            "[nltk_data]   Unzipping tokenizers/punkt_tab.zip.\n"
          ]
        },
        {
          "output_type": "execute_result",
          "data": {
            "text/plain": [
              "True"
            ]
          },
          "metadata": {},
          "execution_count": 33
        }
      ]
    },
    {
      "cell_type": "code",
      "source": [
        "from tensorflow.keras.preprocessing.text import Tokenizer\n",
        "\n",
        "tokenizer = Tokenizer(\n",
        "    num_words=1000,\n",
        "    oov_token=\"<OOV>\"\n",
        ")\n"
      ],
      "metadata": {
        "id": "7WJqx9rJHsQ8"
      },
      "execution_count": null,
      "outputs": []
    },
    {
      "cell_type": "code",
      "source": [
        "tokenizer = tf.keras.preprocessing.text.Tokenizer()\n",
        "tokenizer.fit_on_texts(train_df['text'])\n",
        "tokenizer.fit_on_texts(test_df['text'])\n",
        "tokenizer.fit_on_texts(test_df['text'])"
      ],
      "metadata": {
        "id": "xm4XOeKqHwTO"
      },
      "execution_count": null,
      "outputs": []
    },
    {
      "cell_type": "code",
      "source": [
        "train_df['text']= tokenizer.texts_to_sequences(train_df['text'])\n",
        "valid_df['text']= tokenizer.texts_to_sequences(valid_df['text'])\n",
        "test_df['text'] = tokenizer.texts_to_sequences(test_df['text'])\n"
      ],
      "metadata": {
        "id": "TJKn5-ZnJTgC"
      },
      "execution_count": null,
      "outputs": []
    },
    {
      "cell_type": "code",
      "source": [
        "for word, index in tokenizer.word_index.items():\n",
        "    print(word, index)\n",
        "    if index == 10:\n",
        "        break"
      ],
      "metadata": {
        "colab": {
          "base_uri": "https://localhost:8080/"
        },
        "id": "GzCIbKGDJriY",
        "outputId": "03fcc34e-0285-4acd-9a92-18d0d9cb80fd"
      },
      "execution_count": null,
      "outputs": [
        {
          "output_type": "stream",
          "name": "stdout",
          "text": [
            "من 1\n",
            "في 2\n",
            "الله 3\n",
            "و 4\n",
            "على 5\n",
            "brokenheart 6\n",
            "لا 7\n",
            "، 8\n",
            "ما 9\n",
            "كل 10\n"
          ]
        }
      ]
    },
    {
      "cell_type": "code",
      "source": [
        "vocab_size = len(tokenizer.word_index)"
      ],
      "metadata": {
        "id": "QNyD72TzJzyL"
      },
      "execution_count": null,
      "outputs": []
    },
    {
      "cell_type": "code",
      "source": [
        "train_df.head()"
      ],
      "metadata": {
        "colab": {
          "base_uri": "https://localhost:8080/",
          "height": 206
        },
        "id": "MZOM697UJ_kk",
        "outputId": "134bef85-c3e5-45f7-c540-a7682f3298dc"
      },
      "execution_count": null,
      "outputs": [
        {
          "output_type": "execute_result",
          "data": {
            "text/plain": [
              "                                                    text label\n",
              "22314  [45176, 170, 7368, 646, 28820, 200, 45177, 83,...   neg\n",
              "2955                     [28821, 20, 125, 2096, 250, 67]   neg\n",
              "53493  [179, 45179, 152, 45180, 2234, 8, 15, 8663, 8,...   pos\n",
              "51804  [1556, 3175, 781, 2532, 920, 935, 1287, 2235, ...   pos\n",
              "45744        [3562, 45183, 7369, 9464, 13193, 45184, 11]   pos"
            ],
            "text/html": [
              "\n",
              "  <div id=\"df-1e27e54f-abc4-4bb9-b161-52ae8d3d4545\" class=\"colab-df-container\">\n",
              "    <div>\n",
              "<style scoped>\n",
              "    .dataframe tbody tr th:only-of-type {\n",
              "        vertical-align: middle;\n",
              "    }\n",
              "\n",
              "    .dataframe tbody tr th {\n",
              "        vertical-align: top;\n",
              "    }\n",
              "\n",
              "    .dataframe thead th {\n",
              "        text-align: right;\n",
              "    }\n",
              "</style>\n",
              "<table border=\"1\" class=\"dataframe\">\n",
              "  <thead>\n",
              "    <tr style=\"text-align: right;\">\n",
              "      <th></th>\n",
              "      <th>text</th>\n",
              "      <th>label</th>\n",
              "    </tr>\n",
              "  </thead>\n",
              "  <tbody>\n",
              "    <tr>\n",
              "      <th>22314</th>\n",
              "      <td>[45176, 170, 7368, 646, 28820, 200, 45177, 83,...</td>\n",
              "      <td>neg</td>\n",
              "    </tr>\n",
              "    <tr>\n",
              "      <th>2955</th>\n",
              "      <td>[28821, 20, 125, 2096, 250, 67]</td>\n",
              "      <td>neg</td>\n",
              "    </tr>\n",
              "    <tr>\n",
              "      <th>53493</th>\n",
              "      <td>[179, 45179, 152, 45180, 2234, 8, 15, 8663, 8,...</td>\n",
              "      <td>pos</td>\n",
              "    </tr>\n",
              "    <tr>\n",
              "      <th>51804</th>\n",
              "      <td>[1556, 3175, 781, 2532, 920, 935, 1287, 2235, ...</td>\n",
              "      <td>pos</td>\n",
              "    </tr>\n",
              "    <tr>\n",
              "      <th>45744</th>\n",
              "      <td>[3562, 45183, 7369, 9464, 13193, 45184, 11]</td>\n",
              "      <td>pos</td>\n",
              "    </tr>\n",
              "  </tbody>\n",
              "</table>\n",
              "</div>\n",
              "    <div class=\"colab-df-buttons\">\n",
              "\n",
              "  <div class=\"colab-df-container\">\n",
              "    <button class=\"colab-df-convert\" onclick=\"convertToInteractive('df-1e27e54f-abc4-4bb9-b161-52ae8d3d4545')\"\n",
              "            title=\"Convert this dataframe to an interactive table.\"\n",
              "            style=\"display:none;\">\n",
              "\n",
              "  <svg xmlns=\"http://www.w3.org/2000/svg\" height=\"24px\" viewBox=\"0 -960 960 960\">\n",
              "    <path d=\"M120-120v-720h720v720H120Zm60-500h600v-160H180v160Zm220 220h160v-160H400v160Zm0 220h160v-160H400v160ZM180-400h160v-160H180v160Zm440 0h160v-160H620v160ZM180-180h160v-160H180v160Zm440 0h160v-160H620v160Z\"/>\n",
              "  </svg>\n",
              "    </button>\n",
              "\n",
              "  <style>\n",
              "    .colab-df-container {\n",
              "      display:flex;\n",
              "      gap: 12px;\n",
              "    }\n",
              "\n",
              "    .colab-df-convert {\n",
              "      background-color: #E8F0FE;\n",
              "      border: none;\n",
              "      border-radius: 50%;\n",
              "      cursor: pointer;\n",
              "      display: none;\n",
              "      fill: #1967D2;\n",
              "      height: 32px;\n",
              "      padding: 0 0 0 0;\n",
              "      width: 32px;\n",
              "    }\n",
              "\n",
              "    .colab-df-convert:hover {\n",
              "      background-color: #E2EBFA;\n",
              "      box-shadow: 0px 1px 2px rgba(60, 64, 67, 0.3), 0px 1px 3px 1px rgba(60, 64, 67, 0.15);\n",
              "      fill: #174EA6;\n",
              "    }\n",
              "\n",
              "    .colab-df-buttons div {\n",
              "      margin-bottom: 4px;\n",
              "    }\n",
              "\n",
              "    [theme=dark] .colab-df-convert {\n",
              "      background-color: #3B4455;\n",
              "      fill: #D2E3FC;\n",
              "    }\n",
              "\n",
              "    [theme=dark] .colab-df-convert:hover {\n",
              "      background-color: #434B5C;\n",
              "      box-shadow: 0px 1px 3px 1px rgba(0, 0, 0, 0.15);\n",
              "      filter: drop-shadow(0px 1px 2px rgba(0, 0, 0, 0.3));\n",
              "      fill: #FFFFFF;\n",
              "    }\n",
              "  </style>\n",
              "\n",
              "    <script>\n",
              "      const buttonEl =\n",
              "        document.querySelector('#df-1e27e54f-abc4-4bb9-b161-52ae8d3d4545 button.colab-df-convert');\n",
              "      buttonEl.style.display =\n",
              "        google.colab.kernel.accessAllowed ? 'block' : 'none';\n",
              "\n",
              "      async function convertToInteractive(key) {\n",
              "        const element = document.querySelector('#df-1e27e54f-abc4-4bb9-b161-52ae8d3d4545');\n",
              "        const dataTable =\n",
              "          await google.colab.kernel.invokeFunction('convertToInteractive',\n",
              "                                                    [key], {});\n",
              "        if (!dataTable) return;\n",
              "\n",
              "        const docLinkHtml = 'Like what you see? Visit the ' +\n",
              "          '<a target=\"_blank\" href=https://colab.research.google.com/notebooks/data_table.ipynb>data table notebook</a>'\n",
              "          + ' to learn more about interactive tables.';\n",
              "        element.innerHTML = '';\n",
              "        dataTable['output_type'] = 'display_data';\n",
              "        await google.colab.output.renderOutput(dataTable, element);\n",
              "        const docLink = document.createElement('div');\n",
              "        docLink.innerHTML = docLinkHtml;\n",
              "        element.appendChild(docLink);\n",
              "      }\n",
              "    </script>\n",
              "  </div>\n",
              "\n",
              "\n",
              "    <div id=\"df-ec2b2ce7-952f-4cb2-8cf3-8f2b3e0c8097\">\n",
              "      <button class=\"colab-df-quickchart\" onclick=\"quickchart('df-ec2b2ce7-952f-4cb2-8cf3-8f2b3e0c8097')\"\n",
              "                title=\"Suggest charts\"\n",
              "                style=\"display:none;\">\n",
              "\n",
              "<svg xmlns=\"http://www.w3.org/2000/svg\" height=\"24px\"viewBox=\"0 0 24 24\"\n",
              "     width=\"24px\">\n",
              "    <g>\n",
              "        <path d=\"M19 3H5c-1.1 0-2 .9-2 2v14c0 1.1.9 2 2 2h14c1.1 0 2-.9 2-2V5c0-1.1-.9-2-2-2zM9 17H7v-7h2v7zm4 0h-2V7h2v10zm4 0h-2v-4h2v4z\"/>\n",
              "    </g>\n",
              "</svg>\n",
              "      </button>\n",
              "\n",
              "<style>\n",
              "  .colab-df-quickchart {\n",
              "      --bg-color: #E8F0FE;\n",
              "      --fill-color: #1967D2;\n",
              "      --hover-bg-color: #E2EBFA;\n",
              "      --hover-fill-color: #174EA6;\n",
              "      --disabled-fill-color: #AAA;\n",
              "      --disabled-bg-color: #DDD;\n",
              "  }\n",
              "\n",
              "  [theme=dark] .colab-df-quickchart {\n",
              "      --bg-color: #3B4455;\n",
              "      --fill-color: #D2E3FC;\n",
              "      --hover-bg-color: #434B5C;\n",
              "      --hover-fill-color: #FFFFFF;\n",
              "      --disabled-bg-color: #3B4455;\n",
              "      --disabled-fill-color: #666;\n",
              "  }\n",
              "\n",
              "  .colab-df-quickchart {\n",
              "    background-color: var(--bg-color);\n",
              "    border: none;\n",
              "    border-radius: 50%;\n",
              "    cursor: pointer;\n",
              "    display: none;\n",
              "    fill: var(--fill-color);\n",
              "    height: 32px;\n",
              "    padding: 0;\n",
              "    width: 32px;\n",
              "  }\n",
              "\n",
              "  .colab-df-quickchart:hover {\n",
              "    background-color: var(--hover-bg-color);\n",
              "    box-shadow: 0 1px 2px rgba(60, 64, 67, 0.3), 0 1px 3px 1px rgba(60, 64, 67, 0.15);\n",
              "    fill: var(--button-hover-fill-color);\n",
              "  }\n",
              "\n",
              "  .colab-df-quickchart-complete:disabled,\n",
              "  .colab-df-quickchart-complete:disabled:hover {\n",
              "    background-color: var(--disabled-bg-color);\n",
              "    fill: var(--disabled-fill-color);\n",
              "    box-shadow: none;\n",
              "  }\n",
              "\n",
              "  .colab-df-spinner {\n",
              "    border: 2px solid var(--fill-color);\n",
              "    border-color: transparent;\n",
              "    border-bottom-color: var(--fill-color);\n",
              "    animation:\n",
              "      spin 1s steps(1) infinite;\n",
              "  }\n",
              "\n",
              "  @keyframes spin {\n",
              "    0% {\n",
              "      border-color: transparent;\n",
              "      border-bottom-color: var(--fill-color);\n",
              "      border-left-color: var(--fill-color);\n",
              "    }\n",
              "    20% {\n",
              "      border-color: transparent;\n",
              "      border-left-color: var(--fill-color);\n",
              "      border-top-color: var(--fill-color);\n",
              "    }\n",
              "    30% {\n",
              "      border-color: transparent;\n",
              "      border-left-color: var(--fill-color);\n",
              "      border-top-color: var(--fill-color);\n",
              "      border-right-color: var(--fill-color);\n",
              "    }\n",
              "    40% {\n",
              "      border-color: transparent;\n",
              "      border-right-color: var(--fill-color);\n",
              "      border-top-color: var(--fill-color);\n",
              "    }\n",
              "    60% {\n",
              "      border-color: transparent;\n",
              "      border-right-color: var(--fill-color);\n",
              "    }\n",
              "    80% {\n",
              "      border-color: transparent;\n",
              "      border-right-color: var(--fill-color);\n",
              "      border-bottom-color: var(--fill-color);\n",
              "    }\n",
              "    90% {\n",
              "      border-color: transparent;\n",
              "      border-bottom-color: var(--fill-color);\n",
              "    }\n",
              "  }\n",
              "</style>\n",
              "\n",
              "      <script>\n",
              "        async function quickchart(key) {\n",
              "          const quickchartButtonEl =\n",
              "            document.querySelector('#' + key + ' button');\n",
              "          quickchartButtonEl.disabled = true;  // To prevent multiple clicks.\n",
              "          quickchartButtonEl.classList.add('colab-df-spinner');\n",
              "          try {\n",
              "            const charts = await google.colab.kernel.invokeFunction(\n",
              "                'suggestCharts', [key], {});\n",
              "          } catch (error) {\n",
              "            console.error('Error during call to suggestCharts:', error);\n",
              "          }\n",
              "          quickchartButtonEl.classList.remove('colab-df-spinner');\n",
              "          quickchartButtonEl.classList.add('colab-df-quickchart-complete');\n",
              "        }\n",
              "        (() => {\n",
              "          let quickchartButtonEl =\n",
              "            document.querySelector('#df-ec2b2ce7-952f-4cb2-8cf3-8f2b3e0c8097 button');\n",
              "          quickchartButtonEl.style.display =\n",
              "            google.colab.kernel.accessAllowed ? 'block' : 'none';\n",
              "        })();\n",
              "      </script>\n",
              "    </div>\n",
              "\n",
              "    </div>\n",
              "  </div>\n"
            ],
            "application/vnd.google.colaboratory.intrinsic+json": {
              "type": "dataframe",
              "variable_name": "train_df",
              "summary": "{\n  \"name\": \"train_df\",\n  \"rows\": 41125,\n  \"fields\": [\n    {\n      \"column\": \"text\",\n      \"properties\": {\n        \"dtype\": \"object\",\n        \"semantic_type\": \"\",\n        \"description\": \"\"\n      }\n    },\n    {\n      \"column\": \"label\",\n      \"properties\": {\n        \"dtype\": \"category\",\n        \"num_unique_values\": 2,\n        \"samples\": [\n          \"pos\",\n          \"neg\"\n        ],\n        \"semantic_type\": \"\",\n        \"description\": \"\"\n      }\n    }\n  ]\n}"
            }
          },
          "metadata": {},
          "execution_count": 39
        }
      ]
    },
    {
      "cell_type": "code",
      "source": [
        "train_lengths = [len(seq) for seq in train_df['text']]\n",
        "print(\"Max length:\", max(train_lengths))\n",
        "print(\"Average length:\", sum(train_lengths)/len(train_lengths))\n"
      ],
      "metadata": {
        "colab": {
          "base_uri": "https://localhost:8080/"
        },
        "id": "dtG1BmvaKpCC",
        "outputId": "a1dd5f30-b6e4-4a98-a3d1-ac9b9126ad6e"
      },
      "execution_count": null,
      "outputs": [
        {
          "output_type": "stream",
          "name": "stdout",
          "text": [
            "Max length: 38\n",
            "Average length: 12.524012158054711\n"
          ]
        }
      ]
    },
    {
      "cell_type": "code",
      "source": [
        "from tensorflow.keras.preprocessing.sequence import pad_sequences\n",
        "maxlen = 40\n",
        "X_train = pad_sequences(train_df['text'], maxlen=maxlen, padding='post')\n",
        "X_valid = pad_sequences(valid_df['text'], maxlen=maxlen, padding='post')\n",
        "X_test  = pad_sequences(test_df['text'], maxlen=maxlen, padding='post')\n"
      ],
      "metadata": {
        "id": "UFpVojVnKqX2"
      },
      "execution_count": null,
      "outputs": []
    },
    {
      "cell_type": "code",
      "source": [
        "from sklearn.preprocessing import LabelEncoder\n",
        "\n",
        "Lb = LabelEncoder()\n",
        "y_train = Lb.fit_transform(train_df['label'])\n",
        "y_test = Lb.transform(test_df['label'])\n",
        "y_valid = Lb.transform(valid_df['label'])"
      ],
      "metadata": {
        "id": "C1KxkXVAL04k"
      },
      "execution_count": null,
      "outputs": []
    },
    {
      "cell_type": "code",
      "source": [
        "print(\"X_train shape : \",X_train.shape)\n",
        "print(\"X_test  shape : \",X_test.shape)"
      ],
      "metadata": {
        "colab": {
          "base_uri": "https://localhost:8080/"
        },
        "id": "GwcZoFSVML99",
        "outputId": "cdf23091-8cf9-495a-8633-38a10405946b"
      },
      "execution_count": null,
      "outputs": [
        {
          "output_type": "stream",
          "name": "stdout",
          "text": [
            "X_train shape :  (41125, 40)\n",
            "X_test  shape :  (8813, 40)\n"
          ]
        }
      ]
    },
    {
      "cell_type": "code",
      "source": [
        "model_rnn = tf.keras.models.Sequential([\n",
        "    tf.keras.layers.Embedding(vocab_size, 32, input_shape=[maxlen]),\n",
        "    tf.keras.layers.SimpleRNN(32, return_sequences=True),\n",
        "    tf.keras.layers.BatchNormalization(),\n",
        "    tf.keras.layers.SimpleRNN(32, return_sequences=False),\n",
        "    tf.keras.layers.BatchNormalization(),\n",
        "    tf.keras.layers.Dropout(0.25),\n",
        "    tf.keras.layers.Dense(1, activation=\"sigmoid\")\n",
        "])\n"
      ],
      "metadata": {
        "colab": {
          "base_uri": "https://localhost:8080/"
        },
        "id": "YDQs4Y6KMUGW",
        "outputId": "81794da7-b45b-436c-98bf-bf5c63d17e31"
      },
      "execution_count": null,
      "outputs": [
        {
          "output_type": "stream",
          "name": "stderr",
          "text": [
            "/usr/local/lib/python3.12/dist-packages/keras/src/layers/core/embedding.py:100: UserWarning: Do not pass an `input_shape`/`input_dim` argument to a layer. When using Sequential models, prefer using an `Input(shape)` object as the first layer in the model instead.\n",
            "  super().__init__(**kwargs)\n"
          ]
        }
      ]
    },
    {
      "cell_type": "code",
      "source": [
        "model_rnn.summary()"
      ],
      "metadata": {
        "colab": {
          "base_uri": "https://localhost:8080/",
          "height": 385
        },
        "id": "mV_Vrm7lMwgc",
        "outputId": "2a21ba3c-cd72-4e36-a064-f381fa73142f"
      },
      "execution_count": null,
      "outputs": [
        {
          "output_type": "display_data",
          "data": {
            "text/plain": [
              "\u001b[1mModel: \"sequential\"\u001b[0m\n"
            ],
            "text/html": [
              "<pre style=\"white-space:pre;overflow-x:auto;line-height:normal;font-family:Menlo,'DejaVu Sans Mono',consolas,'Courier New',monospace\"><span style=\"font-weight: bold\">Model: \"sequential\"</span>\n",
              "</pre>\n"
            ]
          },
          "metadata": {}
        },
        {
          "output_type": "display_data",
          "data": {
            "text/plain": [
              "┏━━━━━━━━━━━━━━━━━━━━━━━━━━━━━━━━━┳━━━━━━━━━━━━━━━━━━━━━━━━┳━━━━━━━━━━━━━━━┓\n",
              "┃\u001b[1m \u001b[0m\u001b[1mLayer (type)                   \u001b[0m\u001b[1m \u001b[0m┃\u001b[1m \u001b[0m\u001b[1mOutput Shape          \u001b[0m\u001b[1m \u001b[0m┃\u001b[1m \u001b[0m\u001b[1m      Param #\u001b[0m\u001b[1m \u001b[0m┃\n",
              "┡━━━━━━━━━━━━━━━━━━━━━━━━━━━━━━━━━╇━━━━━━━━━━━━━━━━━━━━━━━━╇━━━━━━━━━━━━━━━┩\n",
              "│ embedding (\u001b[38;5;33mEmbedding\u001b[0m)           │ (\u001b[38;5;45mNone\u001b[0m, \u001b[38;5;34m40\u001b[0m, \u001b[38;5;34m32\u001b[0m)         │     \u001b[38;5;34m2,608,096\u001b[0m │\n",
              "├─────────────────────────────────┼────────────────────────┼───────────────┤\n",
              "│ simple_rnn (\u001b[38;5;33mSimpleRNN\u001b[0m)          │ (\u001b[38;5;45mNone\u001b[0m, \u001b[38;5;34m40\u001b[0m, \u001b[38;5;34m32\u001b[0m)         │         \u001b[38;5;34m2,080\u001b[0m │\n",
              "├─────────────────────────────────┼────────────────────────┼───────────────┤\n",
              "│ batch_normalization             │ (\u001b[38;5;45mNone\u001b[0m, \u001b[38;5;34m40\u001b[0m, \u001b[38;5;34m32\u001b[0m)         │           \u001b[38;5;34m128\u001b[0m │\n",
              "│ (\u001b[38;5;33mBatchNormalization\u001b[0m)            │                        │               │\n",
              "├─────────────────────────────────┼────────────────────────┼───────────────┤\n",
              "│ simple_rnn_1 (\u001b[38;5;33mSimpleRNN\u001b[0m)        │ (\u001b[38;5;45mNone\u001b[0m, \u001b[38;5;34m32\u001b[0m)             │         \u001b[38;5;34m2,080\u001b[0m │\n",
              "├─────────────────────────────────┼────────────────────────┼───────────────┤\n",
              "│ batch_normalization_1           │ (\u001b[38;5;45mNone\u001b[0m, \u001b[38;5;34m32\u001b[0m)             │           \u001b[38;5;34m128\u001b[0m │\n",
              "│ (\u001b[38;5;33mBatchNormalization\u001b[0m)            │                        │               │\n",
              "├─────────────────────────────────┼────────────────────────┼───────────────┤\n",
              "│ dropout (\u001b[38;5;33mDropout\u001b[0m)               │ (\u001b[38;5;45mNone\u001b[0m, \u001b[38;5;34m32\u001b[0m)             │             \u001b[38;5;34m0\u001b[0m │\n",
              "├─────────────────────────────────┼────────────────────────┼───────────────┤\n",
              "│ dense (\u001b[38;5;33mDense\u001b[0m)                   │ (\u001b[38;5;45mNone\u001b[0m, \u001b[38;5;34m1\u001b[0m)              │            \u001b[38;5;34m33\u001b[0m │\n",
              "└─────────────────────────────────┴────────────────────────┴───────────────┘\n"
            ],
            "text/html": [
              "<pre style=\"white-space:pre;overflow-x:auto;line-height:normal;font-family:Menlo,'DejaVu Sans Mono',consolas,'Courier New',monospace\">┏━━━━━━━━━━━━━━━━━━━━━━━━━━━━━━━━━┳━━━━━━━━━━━━━━━━━━━━━━━━┳━━━━━━━━━━━━━━━┓\n",
              "┃<span style=\"font-weight: bold\"> Layer (type)                    </span>┃<span style=\"font-weight: bold\"> Output Shape           </span>┃<span style=\"font-weight: bold\">       Param # </span>┃\n",
              "┡━━━━━━━━━━━━━━━━━━━━━━━━━━━━━━━━━╇━━━━━━━━━━━━━━━━━━━━━━━━╇━━━━━━━━━━━━━━━┩\n",
              "│ embedding (<span style=\"color: #0087ff; text-decoration-color: #0087ff\">Embedding</span>)           │ (<span style=\"color: #00d7ff; text-decoration-color: #00d7ff\">None</span>, <span style=\"color: #00af00; text-decoration-color: #00af00\">40</span>, <span style=\"color: #00af00; text-decoration-color: #00af00\">32</span>)         │     <span style=\"color: #00af00; text-decoration-color: #00af00\">2,608,096</span> │\n",
              "├─────────────────────────────────┼────────────────────────┼───────────────┤\n",
              "│ simple_rnn (<span style=\"color: #0087ff; text-decoration-color: #0087ff\">SimpleRNN</span>)          │ (<span style=\"color: #00d7ff; text-decoration-color: #00d7ff\">None</span>, <span style=\"color: #00af00; text-decoration-color: #00af00\">40</span>, <span style=\"color: #00af00; text-decoration-color: #00af00\">32</span>)         │         <span style=\"color: #00af00; text-decoration-color: #00af00\">2,080</span> │\n",
              "├─────────────────────────────────┼────────────────────────┼───────────────┤\n",
              "│ batch_normalization             │ (<span style=\"color: #00d7ff; text-decoration-color: #00d7ff\">None</span>, <span style=\"color: #00af00; text-decoration-color: #00af00\">40</span>, <span style=\"color: #00af00; text-decoration-color: #00af00\">32</span>)         │           <span style=\"color: #00af00; text-decoration-color: #00af00\">128</span> │\n",
              "│ (<span style=\"color: #0087ff; text-decoration-color: #0087ff\">BatchNormalization</span>)            │                        │               │\n",
              "├─────────────────────────────────┼────────────────────────┼───────────────┤\n",
              "│ simple_rnn_1 (<span style=\"color: #0087ff; text-decoration-color: #0087ff\">SimpleRNN</span>)        │ (<span style=\"color: #00d7ff; text-decoration-color: #00d7ff\">None</span>, <span style=\"color: #00af00; text-decoration-color: #00af00\">32</span>)             │         <span style=\"color: #00af00; text-decoration-color: #00af00\">2,080</span> │\n",
              "├─────────────────────────────────┼────────────────────────┼───────────────┤\n",
              "│ batch_normalization_1           │ (<span style=\"color: #00d7ff; text-decoration-color: #00d7ff\">None</span>, <span style=\"color: #00af00; text-decoration-color: #00af00\">32</span>)             │           <span style=\"color: #00af00; text-decoration-color: #00af00\">128</span> │\n",
              "│ (<span style=\"color: #0087ff; text-decoration-color: #0087ff\">BatchNormalization</span>)            │                        │               │\n",
              "├─────────────────────────────────┼────────────────────────┼───────────────┤\n",
              "│ dropout (<span style=\"color: #0087ff; text-decoration-color: #0087ff\">Dropout</span>)               │ (<span style=\"color: #00d7ff; text-decoration-color: #00d7ff\">None</span>, <span style=\"color: #00af00; text-decoration-color: #00af00\">32</span>)             │             <span style=\"color: #00af00; text-decoration-color: #00af00\">0</span> │\n",
              "├─────────────────────────────────┼────────────────────────┼───────────────┤\n",
              "│ dense (<span style=\"color: #0087ff; text-decoration-color: #0087ff\">Dense</span>)                   │ (<span style=\"color: #00d7ff; text-decoration-color: #00d7ff\">None</span>, <span style=\"color: #00af00; text-decoration-color: #00af00\">1</span>)              │            <span style=\"color: #00af00; text-decoration-color: #00af00\">33</span> │\n",
              "└─────────────────────────────────┴────────────────────────┴───────────────┘\n",
              "</pre>\n"
            ]
          },
          "metadata": {}
        },
        {
          "output_type": "display_data",
          "data": {
            "text/plain": [
              "\u001b[1m Total params: \u001b[0m\u001b[38;5;34m2,612,545\u001b[0m (9.97 MB)\n"
            ],
            "text/html": [
              "<pre style=\"white-space:pre;overflow-x:auto;line-height:normal;font-family:Menlo,'DejaVu Sans Mono',consolas,'Courier New',monospace\"><span style=\"font-weight: bold\"> Total params: </span><span style=\"color: #00af00; text-decoration-color: #00af00\">2,612,545</span> (9.97 MB)\n",
              "</pre>\n"
            ]
          },
          "metadata": {}
        },
        {
          "output_type": "display_data",
          "data": {
            "text/plain": [
              "\u001b[1m Trainable params: \u001b[0m\u001b[38;5;34m2,612,417\u001b[0m (9.97 MB)\n"
            ],
            "text/html": [
              "<pre style=\"white-space:pre;overflow-x:auto;line-height:normal;font-family:Menlo,'DejaVu Sans Mono',consolas,'Courier New',monospace\"><span style=\"font-weight: bold\"> Trainable params: </span><span style=\"color: #00af00; text-decoration-color: #00af00\">2,612,417</span> (9.97 MB)\n",
              "</pre>\n"
            ]
          },
          "metadata": {}
        },
        {
          "output_type": "display_data",
          "data": {
            "text/plain": [
              "\u001b[1m Non-trainable params: \u001b[0m\u001b[38;5;34m128\u001b[0m (512.00 B)\n"
            ],
            "text/html": [
              "<pre style=\"white-space:pre;overflow-x:auto;line-height:normal;font-family:Menlo,'DejaVu Sans Mono',consolas,'Courier New',monospace\"><span style=\"font-weight: bold\"> Non-trainable params: </span><span style=\"color: #00af00; text-decoration-color: #00af00\">128</span> (512.00 B)\n",
              "</pre>\n"
            ]
          },
          "metadata": {}
        }
      ]
    },
    {
      "cell_type": "code",
      "source": [
        "\n",
        "model_rnn.compile(loss='binary_crossentropy', optimizer=\"adam\", metrics=[\"accuracy\"])\n",
        "\n",
        "history_rnn = model_rnn.fit(X_train, y_train, epochs=25, batch_size=32, validation_data=(X_valid, y_valid))"
      ],
      "metadata": {
        "colab": {
          "base_uri": "https://localhost:8080/"
        },
        "id": "eYopXTCFM7_v",
        "outputId": "5634f246-8b36-45c9-984d-b67359471392"
      },
      "execution_count": null,
      "outputs": [
        {
          "output_type": "stream",
          "name": "stdout",
          "text": [
            "Epoch 1/25\n",
            "\u001b[1m1286/1286\u001b[0m \u001b[32m━━━━━━━━━━━━━━━━━━━━\u001b[0m\u001b[37m\u001b[0m \u001b[1m37s\u001b[0m 20ms/step - accuracy: 0.7785 - loss: 0.4478 - val_accuracy: 0.9281 - val_loss: 0.2061\n",
            "Epoch 2/25\n",
            "\u001b[1m1286/1286\u001b[0m \u001b[32m━━━━━━━━━━━━━━━━━━━━\u001b[0m\u001b[37m\u001b[0m \u001b[1m21s\u001b[0m 8ms/step - accuracy: 0.9717 - loss: 0.0917 - val_accuracy: 0.7718 - val_loss: 0.6104\n",
            "Epoch 3/25\n",
            "\u001b[1m1286/1286\u001b[0m \u001b[32m━━━━━━━━━━━━━━━━━━━━\u001b[0m\u001b[37m\u001b[0m \u001b[1m21s\u001b[0m 8ms/step - accuracy: 0.9834 - loss: 0.0570 - val_accuracy: 0.9197 - val_loss: 0.2367\n",
            "Epoch 4/25\n",
            "\u001b[1m1286/1286\u001b[0m \u001b[32m━━━━━━━━━━━━━━━━━━━━\u001b[0m\u001b[37m\u001b[0m \u001b[1m21s\u001b[0m 9ms/step - accuracy: 0.9862 - loss: 0.0432 - val_accuracy: 0.9269 - val_loss: 0.4034\n",
            "Epoch 5/25\n",
            "\u001b[1m1286/1286\u001b[0m \u001b[32m━━━━━━━━━━━━━━━━━━━━\u001b[0m\u001b[37m\u001b[0m \u001b[1m22s\u001b[0m 10ms/step - accuracy: 0.9874 - loss: 0.0393 - val_accuracy: 0.9217 - val_loss: 0.4893\n",
            "Epoch 6/25\n",
            "\u001b[1m1286/1286\u001b[0m \u001b[32m━━━━━━━━━━━━━━━━━━━━\u001b[0m\u001b[37m\u001b[0m \u001b[1m10s\u001b[0m 8ms/step - accuracy: 0.9847 - loss: 0.0506 - val_accuracy: 0.9237 - val_loss: 0.2462\n",
            "Epoch 7/25\n",
            "\u001b[1m1286/1286\u001b[0m \u001b[32m━━━━━━━━━━━━━━━━━━━━\u001b[0m\u001b[37m\u001b[0m \u001b[1m21s\u001b[0m 8ms/step - accuracy: 0.9892 - loss: 0.0332 - val_accuracy: 0.9182 - val_loss: 0.3492\n",
            "Epoch 8/25\n",
            "\u001b[1m1286/1286\u001b[0m \u001b[32m━━━━━━━━━━━━━━━━━━━━\u001b[0m\u001b[37m\u001b[0m \u001b[1m11s\u001b[0m 8ms/step - accuracy: 0.9893 - loss: 0.0302 - val_accuracy: 0.9290 - val_loss: 0.5436\n",
            "Epoch 9/25\n",
            "\u001b[1m1286/1286\u001b[0m \u001b[32m━━━━━━━━━━━━━━━━━━━━\u001b[0m\u001b[37m\u001b[0m \u001b[1m20s\u001b[0m 8ms/step - accuracy: 0.9885 - loss: 0.0385 - val_accuracy: 0.9277 - val_loss: 0.4284\n",
            "Epoch 10/25\n",
            "\u001b[1m1286/1286\u001b[0m \u001b[32m━━━━━━━━━━━━━━━━━━━━\u001b[0m\u001b[37m\u001b[0m \u001b[1m11s\u001b[0m 8ms/step - accuracy: 0.9881 - loss: 0.0359 - val_accuracy: 0.5308 - val_loss: 0.8226\n",
            "Epoch 11/25\n",
            "\u001b[1m1286/1286\u001b[0m \u001b[32m━━━━━━━━━━━━━━━━━━━━\u001b[0m\u001b[37m\u001b[0m \u001b[1m21s\u001b[0m 8ms/step - accuracy: 0.9859 - loss: 0.0463 - val_accuracy: 0.9312 - val_loss: 0.4022\n",
            "Epoch 12/25\n",
            "\u001b[1m1286/1286\u001b[0m \u001b[32m━━━━━━━━━━━━━━━━━━━━\u001b[0m\u001b[37m\u001b[0m \u001b[1m20s\u001b[0m 8ms/step - accuracy: 0.9905 - loss: 0.0307 - val_accuracy: 0.9248 - val_loss: 0.5337\n",
            "Epoch 13/25\n",
            "\u001b[1m1286/1286\u001b[0m \u001b[32m━━━━━━━━━━━━━━━━━━━━\u001b[0m\u001b[37m\u001b[0m \u001b[1m21s\u001b[0m 9ms/step - accuracy: 0.9874 - loss: 0.0362 - val_accuracy: 0.9189 - val_loss: 0.3186\n",
            "Epoch 14/25\n",
            "\u001b[1m1286/1286\u001b[0m \u001b[32m━━━━━━━━━━━━━━━━━━━━\u001b[0m\u001b[37m\u001b[0m \u001b[1m20s\u001b[0m 8ms/step - accuracy: 0.9897 - loss: 0.0281 - val_accuracy: 0.9265 - val_loss: 0.3603\n",
            "Epoch 15/25\n",
            "\u001b[1m1286/1286\u001b[0m \u001b[32m━━━━━━━━━━━━━━━━━━━━\u001b[0m\u001b[37m\u001b[0m \u001b[1m20s\u001b[0m 8ms/step - accuracy: 0.9902 - loss: 0.0283 - val_accuracy: 0.9259 - val_loss: 0.2469\n",
            "Epoch 16/25\n",
            "\u001b[1m1286/1286\u001b[0m \u001b[32m━━━━━━━━━━━━━━━━━━━━\u001b[0m\u001b[37m\u001b[0m \u001b[1m11s\u001b[0m 8ms/step - accuracy: 0.9907 - loss: 0.0234 - val_accuracy: 0.8863 - val_loss: 0.6041\n",
            "Epoch 17/25\n",
            "\u001b[1m1286/1286\u001b[0m \u001b[32m━━━━━━━━━━━━━━━━━━━━\u001b[0m\u001b[37m\u001b[0m \u001b[1m21s\u001b[0m 9ms/step - accuracy: 0.9833 - loss: 0.0403 - val_accuracy: 0.5703 - val_loss: 0.4933\n",
            "Epoch 18/25\n",
            "\u001b[1m1286/1286\u001b[0m \u001b[32m━━━━━━━━━━━━━━━━━━━━\u001b[0m\u001b[37m\u001b[0m \u001b[1m10s\u001b[0m 8ms/step - accuracy: 0.9892 - loss: 0.0379 - val_accuracy: 0.9241 - val_loss: 0.3571\n",
            "Epoch 19/25\n",
            "\u001b[1m1286/1286\u001b[0m \u001b[32m━━━━━━━━━━━━━━━━━━━━\u001b[0m\u001b[37m\u001b[0m \u001b[1m10s\u001b[0m 8ms/step - accuracy: 0.9912 - loss: 0.0222 - val_accuracy: 0.9206 - val_loss: 1.3783\n",
            "Epoch 20/25\n",
            "\u001b[1m1286/1286\u001b[0m \u001b[32m━━━━━━━━━━━━━━━━━━━━\u001b[0m\u001b[37m\u001b[0m \u001b[1m11s\u001b[0m 9ms/step - accuracy: 0.9907 - loss: 0.0283 - val_accuracy: 0.9220 - val_loss: 0.2656\n",
            "Epoch 21/25\n",
            "\u001b[1m1286/1286\u001b[0m \u001b[32m━━━━━━━━━━━━━━━━━━━━\u001b[0m\u001b[37m\u001b[0m \u001b[1m11s\u001b[0m 9ms/step - accuracy: 0.9886 - loss: 0.0323 - val_accuracy: 0.9243 - val_loss: 0.2397\n",
            "Epoch 22/25\n",
            "\u001b[1m1286/1286\u001b[0m \u001b[32m━━━━━━━━━━━━━━━━━━━━\u001b[0m\u001b[37m\u001b[0m \u001b[1m11s\u001b[0m 8ms/step - accuracy: 0.9905 - loss: 0.0264 - val_accuracy: 0.9218 - val_loss: 0.2716\n",
            "Epoch 23/25\n",
            "\u001b[1m1286/1286\u001b[0m \u001b[32m━━━━━━━━━━━━━━━━━━━━\u001b[0m\u001b[37m\u001b[0m \u001b[1m21s\u001b[0m 9ms/step - accuracy: 0.9912 - loss: 0.0239 - val_accuracy: 0.8903 - val_loss: 0.9073\n",
            "Epoch 24/25\n",
            "\u001b[1m1286/1286\u001b[0m \u001b[32m━━━━━━━━━━━━━━━━━━━━\u001b[0m\u001b[37m\u001b[0m \u001b[1m20s\u001b[0m 9ms/step - accuracy: 0.9884 - loss: 0.0331 - val_accuracy: 0.8509 - val_loss: 0.4578\n",
            "Epoch 25/25\n",
            "\u001b[1m1286/1286\u001b[0m \u001b[32m━━━━━━━━━━━━━━━━━━━━\u001b[0m\u001b[37m\u001b[0m \u001b[1m20s\u001b[0m 8ms/step - accuracy: 0.9901 - loss: 0.0268 - val_accuracy: 0.9226 - val_loss: 0.7138\n"
          ]
        }
      ]
    },
    {
      "cell_type": "code",
      "source": [
        "\n",
        "acc = history_rnn.history['accuracy']\n",
        "val_acc = history_rnn.history['val_accuracy']\n",
        "loss = history_rnn.history['loss']\n",
        "val_loss = history_rnn.history['val_loss']\n",
        "\n",
        "epochs = range(1, len(acc) + 1)\n",
        "\n",
        "plt.plot(epochs, loss, label='Training loss')\n",
        "# b is for \"solid blue line\"\n",
        "plt.plot(epochs, val_loss, label='Validation loss')\n",
        "plt.title('Training and validation loss')\n",
        "plt.xlabel('Epochs')\n",
        "plt.ylabel('Loss')\n",
        "plt.legend()\n",
        "\n",
        "plt.show()"
      ],
      "metadata": {
        "colab": {
          "base_uri": "https://localhost:8080/",
          "height": 472
        },
        "id": "sWxBWX-LN1uL",
        "outputId": "97d16097-7c5b-4596-e918-3aefedebffe2"
      },
      "execution_count": null,
      "outputs": [
        {
          "output_type": "display_data",
          "data": {
            "text/plain": [
              "<Figure size 640x480 with 1 Axes>"
            ],
            "image/png": "[encoded data removed]"
          },
          "metadata": {}
        }
      ]
    },
    {
      "cell_type": "code",
      "source": [
        "\n",
        "plt.clf()   # clear figure\n",
        "acc_values = history_rnn.history['accuracy']\n",
        "val_acc_values = history_rnn.history['val_accuracy']\n",
        "\n",
        "plt.plot(epochs, acc, label='Training acc')\n",
        "plt.plot(epochs, val_acc, label='Validation acc')\n",
        "plt.title('Training and validation accuracy')\n",
        "plt.xlabel('Epochs')\n",
        "plt.ylabel('Loss')\n",
        "plt.legend()\n",
        "\n",
        "plt.show()"
      ],
      "metadata": {
        "colab": {
          "base_uri": "https://localhost:8080/",
          "height": 472
        },
        "id": "_dnE8cSHOKgx",
        "outputId": "91f91b9f-1ef5-4513-fb2e-2c26a205e8b6"
      },
      "execution_count": null,
      "outputs": [
        {
          "output_type": "display_data",
          "data": {
            "text/plain": [
              "<Figure size 640x480 with 1 Axes>"
            ],
            "image/png": "[encoded data removed]"
          },
          "metadata": {}
        }
      ]
    },
    {
      "cell_type": "code",
      "source": [
        "# Confusion Matrix\n",
        "y_pred_proba = model_rnn.predict(X_test)\n",
        "y_pred = (y_pred_proba > 0.5).astype(int).tolist()\n",
        "\n",
        "class_names = Lb.classes_\n",
        "\n",
        "# Compute classification report\n",
        "from sklearn.metrics import classification_report, confusion_matrix\n",
        "print(\"Classification report : \\n\",classification_report(y_test, y_pred, target_names = class_names))"
      ],
      "metadata": {
        "colab": {
          "base_uri": "https://localhost:8080/"
        },
        "id": "o8V2w0jsOQAI",
        "outputId": "6bd3207b-8032-426b-90ac-0ca43c52abc5"
      },
      "execution_count": null,
      "outputs": [
        {
          "output_type": "stream",
          "name": "stdout",
          "text": [
            "\u001b[1m276/276\u001b[0m \u001b[32m━━━━━━━━━━━━━━━━━━━━\u001b[0m\u001b[37m\u001b[0m \u001b[1m2s\u001b[0m 5ms/step\n",
            "Classification report : \n",
            "               precision    recall  f1-score   support\n",
            "\n",
            "         neg       0.94      0.90      0.92      4336\n",
            "         pos       0.91      0.94      0.93      4477\n",
            "\n",
            "    accuracy                           0.92      8813\n",
            "   macro avg       0.92      0.92      0.92      8813\n",
            "weighted avg       0.92      0.92      0.92      8813\n",
            "\n"
          ]
        }
      ]
    },
    {
      "cell_type": "code",
      "source": [
        "loss, acc = model_rnn.evaluate(X_test, y_test, verbose=0)\n",
        "print(f\"Test Accuracy: {acc:.4f}\")\n"
      ],
      "metadata": {
        "colab": {
          "base_uri": "https://localhost:8080/"
        },
        "id": "knatYEb0QVg-",
        "outputId": "97db1b16-f003-45d2-892c-de99ddd61b29"
      },
      "execution_count": null,
      "outputs": [
        {
          "output_type": "stream",
          "name": "stdout",
          "text": [
            "Test Accuracy: 0.9237\n"
          ]
        }
      ]
    },
    {
      "cell_type": "code",
      "source": [
        "model_LSTM = tf.keras.models.Sequential([\n",
        "    tf.keras.layers.Embedding(vocab_size, 32, input_shape=[maxlen]),\n",
        "    tf.keras.layers.LSTM(32, return_sequences=True),\n",
        "    tf.keras.layers.BatchNormalization(),\n",
        "    tf.keras.layers.LSTM(32, return_sequences=False),\n",
        "    tf.keras.layers.BatchNormalization(),\n",
        "    tf.keras.layers.Dropout(0.25),\n",
        "    tf.keras.layers.Dense(1, activation=\"sigmoid\")\n",
        "])"
      ],
      "metadata": {
        "colab": {
          "base_uri": "https://localhost:8080/",
          "height": 211
        },
        "id": "jiNfbwkQO4y7",
        "outputId": "f0a4088a-94a9-49ce-e2dc-225486ea4774"
      },
      "execution_count": null,
      "outputs": [
        {
          "output_type": "error",
          "ename": "NameError",
          "evalue": "name 'tf' is not defined",
          "traceback": [
            "\u001b[0;31m---------------------------------------------------------------------------\u001b[0m",
            "\u001b[0;31mNameError\u001b[0m                                 Traceback (most recent call last)",
            "\u001b[0;32m/tmp/ipython-input-2944992844.py\u001b[0m in \u001b[0;36m<cell line: 0>\u001b[0;34m()\u001b[0m\n\u001b[0;32m----> 1\u001b[0;31m model_LSTM = tf.keras.models.Sequential([\n\u001b[0m\u001b[1;32m      2\u001b[0m     \u001b[0mtf\u001b[0m\u001b[0;34m.\u001b[0m\u001b[0mkeras\u001b[0m\u001b[0;34m.\u001b[0m\u001b[0mlayers\u001b[0m\u001b[0;34m.\u001b[0m\u001b[0mEmbedding\u001b[0m\u001b[0;34m(\u001b[0m\u001b[0mvocab_size\u001b[0m\u001b[0;34m,\u001b[0m \u001b[0;36m32\u001b[0m\u001b[0;34m,\u001b[0m \u001b[0minput_shape\u001b[0m\u001b[0;34m=\u001b[0m\u001b[0;34m[\u001b[0m\u001b[0mmaxlen\u001b[0m\u001b[0;34m]\u001b[0m\u001b[0;34m)\u001b[0m\u001b[0;34m,\u001b[0m\u001b[0;34m\u001b[0m\u001b[0;34m\u001b[0m\u001b[0m\n\u001b[1;32m      3\u001b[0m     \u001b[0mtf\u001b[0m\u001b[0;34m.\u001b[0m\u001b[0mkeras\u001b[0m\u001b[0;34m.\u001b[0m\u001b[0mlayers\u001b[0m\u001b[0;34m.\u001b[0m\u001b[0mLSTM\u001b[0m\u001b[0;34m(\u001b[0m\u001b[0;36m32\u001b[0m\u001b[0;34m,\u001b[0m \u001b[0mreturn_sequences\u001b[0m\u001b[0;34m=\u001b[0m\u001b[0;32mTrue\u001b[0m\u001b[0;34m)\u001b[0m\u001b[0;34m,\u001b[0m\u001b[0;34m\u001b[0m\u001b[0;34m\u001b[0m\u001b[0m\n\u001b[1;32m      4\u001b[0m     \u001b[0mtf\u001b[0m\u001b[0;34m.\u001b[0m\u001b[0mkeras\u001b[0m\u001b[0;34m.\u001b[0m\u001b[0mlayers\u001b[0m\u001b[0;34m.\u001b[0m\u001b[0mBatchNormalization\u001b[0m\u001b[0;34m(\u001b[0m\u001b[0;34m)\u001b[0m\u001b[0;34m,\u001b[0m\u001b[0;34m\u001b[0m\u001b[0;34m\u001b[0m\u001b[0m\n\u001b[1;32m      5\u001b[0m     \u001b[0mtf\u001b[0m\u001b[0;34m.\u001b[0m\u001b[0mkeras\u001b[0m\u001b[0;34m.\u001b[0m\u001b[0mlayers\u001b[0m\u001b[0;34m.\u001b[0m\u001b[0mLSTM\u001b[0m\u001b[0;34m(\u001b[0m\u001b[0;36m32\u001b[0m\u001b[0;34m,\u001b[0m \u001b[0mreturn_sequences\u001b[0m\u001b[0;34m=\u001b[0m\u001b[0;32mFalse\u001b[0m\u001b[0;34m)\u001b[0m\u001b[0;34m,\u001b[0m\u001b[0;34m\u001b[0m\u001b[0;34m\u001b[0m\u001b[0m\n",
            "\u001b[0;31mNameError\u001b[0m: name 'tf' is not defined"
          ]
        }
      ]
    },
    {
      "cell_type": "code",
      "source": [
        "# Compiling the model\n",
        "model_LSTM.compile(loss='binary_crossentropy', optimizer=\"adam\", metrics=[\"accuracy\"])\n",
        "\n",
        "# Training and evaluating the model\n",
        "history = model_LSTM.fit(X_train, y_train, epochs=15, batch_size=32, validation_data=(X_valid, y_valid))"
      ],
      "metadata": {
        "colab": {
          "base_uri": "https://localhost:8080/"
        },
        "id": "k5z5iJeFPC0Z",
        "outputId": "df53d802-2667-4ad1-eea8-f3c742358020"
      },
      "execution_count": null,
      "outputs": [
        {
          "output_type": "stream",
          "name": "stdout",
          "text": [
            "Epoch 1/15\n",
            "\u001b[1m1286/1286\u001b[0m \u001b[32m━━━━━━━━━━━━━━━━━━━━\u001b[0m\u001b[37m\u001b[0m \u001b[1m22s\u001b[0m 12ms/step - accuracy: 0.8462 - loss: 0.3360 - val_accuracy: 0.9316 - val_loss: 0.2212\n",
            "Epoch 2/15\n",
            "\u001b[1m1286/1286\u001b[0m \u001b[32m━━━━━━━━━━━━━━━━━━━━\u001b[0m\u001b[37m\u001b[0m \u001b[1m18s\u001b[0m 12ms/step - accuracy: 0.9757 - loss: 0.0735 - val_accuracy: 0.9353 - val_loss: 0.2252\n",
            "Epoch 3/15\n",
            "\u001b[1m1286/1286\u001b[0m \u001b[32m━━━━━━━━━━━━━━━━━━━━\u001b[0m\u001b[37m\u001b[0m \u001b[1m20s\u001b[0m 12ms/step - accuracy: 0.9856 - loss: 0.0422 - val_accuracy: 0.9341 - val_loss: 0.2731\n",
            "Epoch 4/15\n",
            "\u001b[1m1286/1286\u001b[0m \u001b[32m━━━━━━━━━━━━━━━━━━━━\u001b[0m\u001b[37m\u001b[0m \u001b[1m21s\u001b[0m 12ms/step - accuracy: 0.9881 - loss: 0.0349 - val_accuracy: 0.9218 - val_loss: 0.2829\n",
            "Epoch 5/15\n",
            "\u001b[1m1286/1286\u001b[0m \u001b[32m━━━━━━━━━━━━━━━━━━━━\u001b[0m\u001b[37m\u001b[0m \u001b[1m15s\u001b[0m 12ms/step - accuracy: 0.9889 - loss: 0.0310 - val_accuracy: 0.9270 - val_loss: 0.2562\n",
            "Epoch 6/15\n",
            "\u001b[1m1286/1286\u001b[0m \u001b[32m━━━━━━━━━━━━━━━━━━━━\u001b[0m\u001b[37m\u001b[0m \u001b[1m21s\u001b[0m 12ms/step - accuracy: 0.9895 - loss: 0.0286 - val_accuracy: 0.9333 - val_loss: 0.3689\n",
            "Epoch 7/15\n",
            "\u001b[1m1286/1286\u001b[0m \u001b[32m━━━━━━━━━━━━━━━━━━━━\u001b[0m\u001b[37m\u001b[0m \u001b[1m20s\u001b[0m 12ms/step - accuracy: 0.9878 - loss: 0.0322 - val_accuracy: 0.9245 - val_loss: 0.3371\n",
            "Epoch 8/15\n",
            "\u001b[1m1286/1286\u001b[0m \u001b[32m━━━━━━━━━━━━━━━━━━━━\u001b[0m\u001b[37m\u001b[0m \u001b[1m22s\u001b[0m 13ms/step - accuracy: 0.9895 - loss: 0.0261 - val_accuracy: 0.9318 - val_loss: 0.3253\n",
            "Epoch 9/15\n",
            "\u001b[1m1286/1286\u001b[0m \u001b[32m━━━━━━━━━━━━━━━━━━━━\u001b[0m\u001b[37m\u001b[0m \u001b[1m19s\u001b[0m 12ms/step - accuracy: 0.9900 - loss: 0.0249 - val_accuracy: 0.9260 - val_loss: 0.2925\n",
            "Epoch 10/15\n",
            "\u001b[1m1286/1286\u001b[0m \u001b[32m━━━━━━━━━━━━━━━━━━━━\u001b[0m\u001b[37m\u001b[0m \u001b[1m20s\u001b[0m 12ms/step - accuracy: 0.9905 - loss: 0.0247 - val_accuracy: 0.9334 - val_loss: 0.2757\n",
            "Epoch 11/15\n",
            "\u001b[1m1286/1286\u001b[0m \u001b[32m━━━━━━━━━━━━━━━━━━━━\u001b[0m\u001b[37m\u001b[0m \u001b[1m21s\u001b[0m 12ms/step - accuracy: 0.9898 - loss: 0.0246 - val_accuracy: 0.9283 - val_loss: 0.3191\n",
            "Epoch 12/15\n",
            "\u001b[1m1286/1286\u001b[0m \u001b[32m━━━━━━━━━━━━━━━━━━━━\u001b[0m\u001b[37m\u001b[0m \u001b[1m20s\u001b[0m 12ms/step - accuracy: 0.9915 - loss: 0.0208 - val_accuracy: 0.9336 - val_loss: 0.3371\n",
            "Epoch 13/15\n",
            "\u001b[1m1286/1286\u001b[0m \u001b[32m━━━━━━━━━━━━━━━━━━━━\u001b[0m\u001b[37m\u001b[0m \u001b[1m20s\u001b[0m 12ms/step - accuracy: 0.9908 - loss: 0.0228 - val_accuracy: 0.9324 - val_loss: 0.3300\n",
            "Epoch 14/15\n",
            "\u001b[1m1286/1286\u001b[0m \u001b[32m━━━━━━━━━━━━━━━━━━━━\u001b[0m\u001b[37m\u001b[0m \u001b[1m21s\u001b[0m 12ms/step - accuracy: 0.9921 - loss: 0.0181 - val_accuracy: 0.9300 - val_loss: 0.3686\n",
            "Epoch 15/15\n",
            "\u001b[1m1286/1286\u001b[0m \u001b[32m━━━━━━━━━━━━━━━━━━━━\u001b[0m\u001b[37m\u001b[0m \u001b[1m22s\u001b[0m 13ms/step - accuracy: 0.9922 - loss: 0.0198 - val_accuracy: 0.9234 - val_loss: 0.2378\n"
          ]
        }
      ]
    },
    {
      "cell_type": "code",
      "source": [
        "\n",
        "acc = history.history['accuracy']\n",
        "val_acc = history.history['val_accuracy']\n",
        "loss = history.history['loss']\n",
        "val_loss = history.history['val_loss']\n",
        "\n",
        "epochs = range(1, len(acc) + 1)\n",
        "\n",
        "plt.plot(epochs, loss, label='Training loss')\n",
        "plt.plot(epochs, val_loss, label='Validation loss')\n",
        "plt.title('Training and validation loss')\n",
        "plt.xlabel('Epochs')\n",
        "plt.ylabel('Loss')\n",
        "plt.legend()\n",
        "\n",
        "plt.show()"
      ],
      "metadata": {
        "colab": {
          "base_uri": "https://localhost:8080/",
          "height": 472
        },
        "id": "VRt7cxIWPRx1",
        "outputId": "990bb930-0133-463f-d9e3-dffd4b97dd6e"
      },
      "execution_count": null,
      "outputs": [
        {
          "output_type": "display_data",
          "data": {
            "text/plain": [
              "<Figure size 640x480 with 1 Axes>"
            ],
            "image/png": "[encoded data removed]"
          },
          "metadata": {}
        }
      ]
    },
    {
      "cell_type": "code",
      "source": [
        "\n",
        "plt.clf()   # clear figure\n",
        "acc_values = history.history['accuracy']\n",
        "val_acc_values = history.history['val_accuracy']\n",
        "\n",
        "plt.plot(epochs, acc, label='Training acc')\n",
        "plt.plot(epochs, val_acc, label='Validation acc')\n",
        "plt.title('Training and validation accuracy')\n",
        "plt.xlabel('Epochs')\n",
        "plt.ylabel('Loss')\n",
        "plt.legend()\n",
        "\n",
        "plt.show()"
      ],
      "metadata": {
        "colab": {
          "base_uri": "https://localhost:8080/",
          "height": 472
        },
        "id": "70swsWQEPb-O",
        "outputId": "d396b15b-0905-45f8-df65-daf86e889f88"
      },
      "execution_count": null,
      "outputs": [
        {
          "output_type": "display_data",
          "data": {
            "text/plain": [
              "<Figure size 640x480 with 1 Axes>"
            ],
            "image/png": "[encoded data removed]"
          },
          "metadata": {}
        }
      ]
    },
    {
      "cell_type": "code",
      "source": [
        "# Confusion Matrix\n",
        "y_pred_proba = model_LSTM.predict(X_test)\n",
        "y_pred = (y_pred_proba > 0.5).astype(int).tolist()\n",
        "\n",
        "class_names = Lb.classes_\n",
        "\n",
        "# Compute classification report\n",
        "from sklearn.metrics import classification_report, confusion_matrix\n",
        "print(\"Classification report : \\n\",classification_report(y_test, y_pred, target_names = class_names))"
      ],
      "metadata": {
        "colab": {
          "base_uri": "https://localhost:8080/"
        },
        "id": "--8HQ0FOPgHd",
        "outputId": "f6014ee3-4520-4c25-b9f3-f132396d8595"
      },
      "execution_count": null,
      "outputs": [
        {
          "output_type": "stream",
          "name": "stdout",
          "text": [
            "\u001b[1m276/276\u001b[0m \u001b[32m━━━━━━━━━━━━━━━━━━━━\u001b[0m\u001b[37m\u001b[0m \u001b[1m1s\u001b[0m 4ms/step\n",
            "Classification report : \n",
            "               precision    recall  f1-score   support\n",
            "\n",
            "         neg       0.88      0.97      0.93      4336\n",
            "         pos       0.97      0.88      0.92      4477\n",
            "\n",
            "    accuracy                           0.92      8813\n",
            "   macro avg       0.93      0.92      0.92      8813\n",
            "weighted avg       0.93      0.92      0.92      8813\n",
            "\n"
          ]
        }
      ]
    },
    {
      "cell_type": "code",
      "source": [
        "loss, acc = model_LSTM.evaluate(X_test, y_test, verbose=0)\n",
        "print(f\"Test Accuracy: {acc:.4f}\")\n"
      ],
      "metadata": {
        "colab": {
          "base_uri": "https://localhost:8080/"
        },
        "id": "pLLSWwadRutj",
        "outputId": "74aa1706-91b1-47ab-ddd7-bd7b70354092"
      },
      "execution_count": null,
      "outputs": [
        {
          "output_type": "stream",
          "name": "stdout",
          "text": [
            "Test Accuracy: 0.9241\n"
          ]
        }
      ]
    },
    {
      "cell_type": "code",
      "source": [
        "model_GRU = tf.keras.models.Sequential([\n",
        "    tf.keras.layers.Embedding(vocab_size, 32, input_shape=[maxlen]),\n",
        "    tf.keras.layers.GRU(32, return_sequences=True),\n",
        "    tf.keras.layers.BatchNormalization(),\n",
        "    tf.keras.layers.GRU(32, return_sequences=False),\n",
        "    tf.keras.layers.BatchNormalization(),\n",
        "    tf.keras.layers.Dropout(0.25),\n",
        "    tf.keras.layers.Dense(1, activation=\"sigmoid\")\n",
        "])"
      ],
      "metadata": {
        "colab": {
          "base_uri": "https://localhost:8080/"
        },
        "id": "SQZVCToLR8sz",
        "outputId": "a11d3c54-38f5-4078-ae0a-f580bc9c536d"
      },
      "execution_count": null,
      "outputs": [
        {
          "output_type": "stream",
          "name": "stderr",
          "text": [
            "/usr/local/lib/python3.12/dist-packages/keras/src/layers/core/embedding.py:100: UserWarning: Do not pass an `input_shape`/`input_dim` argument to a layer. When using Sequential models, prefer using an `Input(shape)` object as the first layer in the model instead.\n",
            "  super().__init__(**kwargs)\n"
          ]
        }
      ]
    },
    {
      "cell_type": "code",
      "source": [
        "# Compiling the model\n",
        "model_GRU.compile(loss='binary_crossentropy', optimizer=\"adam\", metrics=[\"accuracy\"])\n",
        "\n",
        "# Training and evaluating the model\n",
        "history = model_GRU.fit(X_train, y_train, epochs=15, batch_size=32, validation_data=(X_valid, y_valid))"
      ],
      "metadata": {
        "colab": {
          "base_uri": "https://localhost:8080/"
        },
        "id": "9OlZrAuHSHkl",
        "outputId": "1246d4f3-7f4d-4656-f5d0-f14766447c7a"
      },
      "execution_count": null,
      "outputs": [
        {
          "output_type": "stream",
          "name": "stdout",
          "text": [
            "Epoch 1/15\n",
            "\u001b[1m1286/1286\u001b[0m \u001b[32m━━━━━━━━━━━━━━━━━━━━\u001b[0m\u001b[37m\u001b[0m \u001b[1m18s\u001b[0m 12ms/step - accuracy: 0.7996 - loss: 0.3751 - val_accuracy: 0.8685 - val_loss: 0.3944\n",
            "Epoch 2/15\n",
            "\u001b[1m1286/1286\u001b[0m \u001b[32m━━━━━━━━━━━━━━━━━━━━\u001b[0m\u001b[37m\u001b[0m \u001b[1m20s\u001b[0m 12ms/step - accuracy: 0.9733 - loss: 0.0845 - val_accuracy: 0.9366 - val_loss: 0.1758\n",
            "Epoch 3/15\n",
            "\u001b[1m1286/1286\u001b[0m \u001b[32m━━━━━━━━━━━━━━━━━━━━\u001b[0m\u001b[37m\u001b[0m \u001b[1m20s\u001b[0m 12ms/step - accuracy: 0.9870 - loss: 0.0408 - val_accuracy: 0.9206 - val_loss: 0.2638\n",
            "Epoch 4/15\n",
            "\u001b[1m1286/1286\u001b[0m \u001b[32m━━━━━━━━━━━━━━━━━━━━\u001b[0m\u001b[37m\u001b[0m \u001b[1m15s\u001b[0m 12ms/step - accuracy: 0.9893 - loss: 0.0295 - val_accuracy: 0.9260 - val_loss: 0.2767\n",
            "Epoch 5/15\n",
            "\u001b[1m1286/1286\u001b[0m \u001b[32m━━━━━━━━━━━━━━━━━━━━\u001b[0m\u001b[37m\u001b[0m \u001b[1m16s\u001b[0m 12ms/step - accuracy: 0.9894 - loss: 0.0260 - val_accuracy: 0.9349 - val_loss: 0.2434\n",
            "Epoch 6/15\n",
            "\u001b[1m1286/1286\u001b[0m \u001b[32m━━━━━━━━━━━━━━━━━━━━\u001b[0m\u001b[37m\u001b[0m \u001b[1m15s\u001b[0m 11ms/step - accuracy: 0.9885 - loss: 0.0306 - val_accuracy: 0.9301 - val_loss: 0.2657\n",
            "Epoch 7/15\n",
            "\u001b[1m1286/1286\u001b[0m \u001b[32m━━━━━━━━━━━━━━━━━━━━\u001b[0m\u001b[37m\u001b[0m \u001b[1m15s\u001b[0m 12ms/step - accuracy: 0.9887 - loss: 0.0278 - val_accuracy: 0.9368 - val_loss: 0.3221\n",
            "Epoch 8/15\n",
            "\u001b[1m1286/1286\u001b[0m \u001b[32m━━━━━━━━━━━━━━━━━━━━\u001b[0m\u001b[37m\u001b[0m \u001b[1m21s\u001b[0m 12ms/step - accuracy: 0.9906 - loss: 0.0212 - val_accuracy: 0.9332 - val_loss: 0.3088\n",
            "Epoch 9/15\n",
            "\u001b[1m1286/1286\u001b[0m \u001b[32m━━━━━━━━━━━━━━━━━━━━\u001b[0m\u001b[37m\u001b[0m \u001b[1m22s\u001b[0m 13ms/step - accuracy: 0.9898 - loss: 0.0242 - val_accuracy: 0.9317 - val_loss: 0.3186\n",
            "Epoch 10/15\n",
            "\u001b[1m1286/1286\u001b[0m \u001b[32m━━━━━━━━━━━━━━━━━━━━\u001b[0m\u001b[37m\u001b[0m \u001b[1m19s\u001b[0m 12ms/step - accuracy: 0.9912 - loss: 0.0210 - val_accuracy: 0.9273 - val_loss: 0.2899\n",
            "Epoch 11/15\n",
            "\u001b[1m1286/1286\u001b[0m \u001b[32m━━━━━━━━━━━━━━━━━━━━\u001b[0m\u001b[37m\u001b[0m \u001b[1m20s\u001b[0m 11ms/step - accuracy: 0.9916 - loss: 0.0228 - val_accuracy: 0.9300 - val_loss: 0.3434\n",
            "Epoch 12/15\n",
            "\u001b[1m1286/1286\u001b[0m \u001b[32m━━━━━━━━━━━━━━━━━━━━\u001b[0m\u001b[37m\u001b[0m \u001b[1m21s\u001b[0m 12ms/step - accuracy: 0.9903 - loss: 0.0231 - val_accuracy: 0.9265 - val_loss: 0.3281\n",
            "Epoch 13/15\n",
            "\u001b[1m1286/1286\u001b[0m \u001b[32m━━━━━━━━━━━━━━━━━━━━\u001b[0m\u001b[37m\u001b[0m \u001b[1m20s\u001b[0m 12ms/step - accuracy: 0.9911 - loss: 0.0209 - val_accuracy: 0.9294 - val_loss: 0.3006\n",
            "Epoch 14/15\n",
            "\u001b[1m1286/1286\u001b[0m \u001b[32m━━━━━━━━━━━━━━━━━━━━\u001b[0m\u001b[37m\u001b[0m \u001b[1m16s\u001b[0m 12ms/step - accuracy: 0.9921 - loss: 0.0193 - val_accuracy: 0.9323 - val_loss: 0.5402\n",
            "Epoch 15/15\n",
            "\u001b[1m1286/1286\u001b[0m \u001b[32m━━━━━━━━━━━━━━━━━━━━\u001b[0m\u001b[37m\u001b[0m \u001b[1m15s\u001b[0m 12ms/step - accuracy: 0.9920 - loss: 0.0183 - val_accuracy: 0.9286 - val_loss: 0.3729\n"
          ]
        }
      ]
    },
    {
      "cell_type": "code",
      "source": [
        "\n",
        "acc = history.history['accuracy']\n",
        "val_acc = history.history['val_accuracy']\n",
        "loss = history.history['loss']\n",
        "val_loss = history.history['val_loss']\n",
        "\n",
        "epochs = range(1, len(acc) + 1)\n",
        "\n",
        "plt.plot(epochs, loss, label='Training loss')\n",
        "plt.plot(epochs, val_loss, label='Validation loss')\n",
        "plt.title('Training and validation loss')\n",
        "plt.xlabel('Epochs')\n",
        "plt.ylabel('Loss')\n",
        "plt.legend()\n",
        "\n",
        "plt.show()"
      ],
      "metadata": {
        "colab": {
          "base_uri": "https://localhost:8080/",
          "height": 472
        },
        "id": "dFCxfjCuSOjB",
        "outputId": "16f0e3f0-41f8-4dd5-9ec1-376ac7541f9a"
      },
      "execution_count": null,
      "outputs": [
        {
          "output_type": "display_data",
          "data": {
            "text/plain": [
              "<Figure size 640x480 with 1 Axes>"
            ],
            "image/png": "[encoded data removed]"
          },
          "metadata": {}
        }
      ]
    },
    {
      "cell_type": "code",
      "source": [
        "\n",
        "plt.clf()   # clear figure\n",
        "acc_values = history.history['accuracy']\n",
        "val_acc_values = history.history['val_accuracy']\n",
        "\n",
        "plt.plot(epochs, acc, label='Training acc')\n",
        "plt.plot(epochs, val_acc, label='Validation acc')\n",
        "plt.title('Training and validation accuracy')\n",
        "plt.xlabel('Epochs')\n",
        "plt.ylabel('Loss')\n",
        "plt.legend()\n",
        "\n",
        "plt.show()"
      ],
      "metadata": {
        "colab": {
          "base_uri": "https://localhost:8080/",
          "height": 472
        },
        "id": "8JQYEr5FSWFe",
        "outputId": "304d4e6b-740f-42ee-8a6f-2b14bc645ba9"
      },
      "execution_count": null,
      "outputs": [
        {
          "output_type": "display_data",
          "data": {
            "text/plain": [
              "<Figure size 640x480 with 1 Axes>"
            ],
            "image/png": "[encoded data removed]"
          },
          "metadata": {}
        }
      ]
    },
    {
      "cell_type": "code",
      "source": [
        "#\n",
        "y_pred_proba = model_LSTM.predict(X_test)\n",
        "y_pred = (y_pred_proba > 0.5).astype(int).tolist()\n",
        "\n",
        "class_names = Lb.classes_\n",
        "\n",
        "from sklearn.metrics import classification_report, confusion_matrix\n",
        "print(\"Classification report : \\n\",classification_report(y_test, y_pred, target_names = class_names))\n"
      ],
      "metadata": {
        "colab": {
          "base_uri": "https://localhost:8080/"
        },
        "id": "X17T3vfLSZpQ",
        "outputId": "b7b60e1d-77c8-4b48-fd49-500cd306c7c2"
      },
      "execution_count": null,
      "outputs": [
        {
          "output_type": "stream",
          "name": "stdout",
          "text": [
            "\u001b[1m276/276\u001b[0m \u001b[32m━━━━━━━━━━━━━━━━━━━━\u001b[0m\u001b[37m\u001b[0m \u001b[1m1s\u001b[0m 3ms/step\n",
            "Classification report : \n",
            "               precision    recall  f1-score   support\n",
            "\n",
            "         neg       0.88      0.97      0.93      4336\n",
            "         pos       0.97      0.88      0.92      4477\n",
            "\n",
            "    accuracy                           0.92      8813\n",
            "   macro avg       0.93      0.92      0.92      8813\n",
            "weighted avg       0.93      0.92      0.92      8813\n",
            "\n"
          ]
        }
      ]
    },
    {
      "cell_type": "code",
      "source": [
        "loss, acc = model_GRU.evaluate(X_test, y_test, verbose=0)\n",
        "print(f\"Test Accuracy: {acc:.4f}\")\n"
      ],
      "metadata": {
        "colab": {
          "base_uri": "https://localhost:8080/"
        },
        "id": "gZDpCVCWSdkx",
        "outputId": "40671334-5ae1-4193-a776-f8396968ba12"
      },
      "execution_count": null,
      "outputs": [
        {
          "output_type": "stream",
          "name": "stdout",
          "text": [
            "Test Accuracy: 0.9302\n"
          ]
        }
      ]
    },
    {
      "cell_type": "code",
      "source": [
        "model_BI = tf.keras.models.Sequential([\n",
        "    tf.keras.layers.Embedding(vocab_size, 32, input_shape=[maxlen]),\n",
        "    tf.keras.layers.Bidirectional(tf.keras.layers.LSTM(32, return_sequences=True)),\n",
        "    tf.keras.layers.BatchNormalization(),\n",
        "    tf.keras.layers.Bidirectional(tf.keras.layers.LSTM(32, return_sequences=False)),\n",
        "    tf.keras.layers.BatchNormalization(),\n",
        "    tf.keras.layers.Dropout(0.25),\n",
        "    tf.keras.layers.Dense(1, activation=\"sigmoid\")\n",
        "])"
      ],
      "metadata": {
        "id": "DFJCeszuVY5J",
        "colab": {
          "base_uri": "https://localhost:8080/"
        },
        "outputId": "a5203aff-71d9-47c8-859a-c581312da9ac"
      },
      "execution_count": null,
      "outputs": [
        {
          "output_type": "stream",
          "name": "stderr",
          "text": [
            "/usr/local/lib/python3.12/dist-packages/keras/src/layers/core/embedding.py:100: UserWarning: Do not pass an `input_shape`/`input_dim` argument to a layer. When using Sequential models, prefer using an `Input(shape)` object as the first layer in the model instead.\n",
            "  super().__init__(**kwargs)\n"
          ]
        }
      ]
    },
    {
      "cell_type": "code",
      "source": [
        "# Compiling the model\n",
        "model_BI.compile(loss='binary_crossentropy', optimizer=\"adam\", metrics=[\"accuracy\"])\n",
        "\n",
        "# Training and evaluating the model\n",
        "history = model_BI.fit(X_train, y_train, epochs=15, batch_size=32, validation_data=(X_valid, y_valid))"
      ],
      "metadata": {
        "colab": {
          "base_uri": "https://localhost:8080/"
        },
        "id": "7p1fpnoMTI43",
        "outputId": "095f8dec-e7f5-4318-98a8-5a019f9b6c94"
      },
      "execution_count": null,
      "outputs": [
        {
          "output_type": "stream",
          "name": "stdout",
          "text": [
            "Epoch 1/15\n",
            "\u001b[1m1286/1286\u001b[0m \u001b[32m━━━━━━━━━━━━━━━━━━━━\u001b[0m\u001b[37m\u001b[0m \u001b[1m26s\u001b[0m 16ms/step - accuracy: 0.8421 - loss: 0.3339 - val_accuracy: 0.9222 - val_loss: 0.1885\n",
            "Epoch 2/15\n",
            "\u001b[1m1286/1286\u001b[0m \u001b[32m━━━━━━━━━━━━━━━━━━━━\u001b[0m\u001b[37m\u001b[0m \u001b[1m41s\u001b[0m 16ms/step - accuracy: 0.9772 - loss: 0.0712 - val_accuracy: 0.9338 - val_loss: 0.2158\n",
            "Epoch 3/15\n",
            "\u001b[1m1286/1286\u001b[0m \u001b[32m━━━━━━━━━━━━━━━━━━━━\u001b[0m\u001b[37m\u001b[0m \u001b[1m41s\u001b[0m 17ms/step - accuracy: 0.9868 - loss: 0.0390 - val_accuracy: 0.9341 - val_loss: 0.2507\n",
            "Epoch 4/15\n",
            "\u001b[1m1286/1286\u001b[0m \u001b[32m━━━━━━━━━━━━━━━━━━━━\u001b[0m\u001b[37m\u001b[0m \u001b[1m40s\u001b[0m 16ms/step - accuracy: 0.9895 - loss: 0.0274 - val_accuracy: 0.9296 - val_loss: 0.2674\n",
            "Epoch 5/15\n",
            "\u001b[1m1286/1286\u001b[0m \u001b[32m━━━━━━━━━━━━━━━━━━━━\u001b[0m\u001b[37m\u001b[0m \u001b[1m40s\u001b[0m 16ms/step - accuracy: 0.9900 - loss: 0.0262 - val_accuracy: 0.9181 - val_loss: 0.2522\n",
            "Epoch 6/15\n",
            "\u001b[1m1286/1286\u001b[0m \u001b[32m━━━━━━━━━━━━━━━━━━━━\u001b[0m\u001b[37m\u001b[0m \u001b[1m21s\u001b[0m 17ms/step - accuracy: 0.9901 - loss: 0.0254 - val_accuracy: 0.9314 - val_loss: 0.2717\n",
            "Epoch 7/15\n",
            "\u001b[1m1286/1286\u001b[0m \u001b[32m━━━━━━━━━━━━━━━━━━━━\u001b[0m\u001b[37m\u001b[0m \u001b[1m21s\u001b[0m 16ms/step - accuracy: 0.9898 - loss: 0.0258 - val_accuracy: 0.9333 - val_loss: 0.2761\n",
            "Epoch 8/15\n",
            "\u001b[1m1286/1286\u001b[0m \u001b[32m━━━━━━━━━━━━━━━━━━━━\u001b[0m\u001b[37m\u001b[0m \u001b[1m21s\u001b[0m 16ms/step - accuracy: 0.9902 - loss: 0.0227 - val_accuracy: 0.9289 - val_loss: 0.3491\n",
            "Epoch 9/15\n",
            "\u001b[1m1286/1286\u001b[0m \u001b[32m━━━━━━━━━━━━━━━━━━━━\u001b[0m\u001b[37m\u001b[0m \u001b[1m41s\u001b[0m 16ms/step - accuracy: 0.9917 - loss: 0.0184 - val_accuracy: 0.9285 - val_loss: 0.2885\n",
            "Epoch 10/15\n",
            "\u001b[1m1286/1286\u001b[0m \u001b[32m━━━━━━━━━━━━━━━━━━━━\u001b[0m\u001b[37m\u001b[0m \u001b[1m22s\u001b[0m 17ms/step - accuracy: 0.9912 - loss: 0.0211 - val_accuracy: 0.9344 - val_loss: 0.2779\n",
            "Epoch 11/15\n",
            "\u001b[1m1286/1286\u001b[0m \u001b[32m━━━━━━━━━━━━━━━━━━━━\u001b[0m\u001b[37m\u001b[0m \u001b[1m39s\u001b[0m 16ms/step - accuracy: 0.9921 - loss: 0.0177 - val_accuracy: 0.9326 - val_loss: 0.3480\n",
            "Epoch 12/15\n",
            "\u001b[1m1286/1286\u001b[0m \u001b[32m━━━━━━━━━━━━━━━━━━━━\u001b[0m\u001b[37m\u001b[0m \u001b[1m21s\u001b[0m 16ms/step - accuracy: 0.9921 - loss: 0.0192 - val_accuracy: 0.9342 - val_loss: 0.3271\n",
            "Epoch 13/15\n",
            "\u001b[1m1286/1286\u001b[0m \u001b[32m━━━━━━━━━━━━━━━━━━━━\u001b[0m\u001b[37m\u001b[0m \u001b[1m41s\u001b[0m 16ms/step - accuracy: 0.9923 - loss: 0.0169 - val_accuracy: 0.9336 - val_loss: 0.3095\n",
            "Epoch 14/15\n",
            "\u001b[1m1286/1286\u001b[0m \u001b[32m━━━━━━━━━━━━━━━━━━━━\u001b[0m\u001b[37m\u001b[0m \u001b[1m41s\u001b[0m 17ms/step - accuracy: 0.9925 - loss: 0.0171 - val_accuracy: 0.9299 - val_loss: 0.3086\n",
            "Epoch 15/15\n",
            "\u001b[1m1286/1286\u001b[0m \u001b[32m━━━━━━━━━━━━━━━━━━━━\u001b[0m\u001b[37m\u001b[0m \u001b[1m41s\u001b[0m 17ms/step - accuracy: 0.9926 - loss: 0.0170 - val_accuracy: 0.9310 - val_loss: 0.3230\n"
          ]
        }
      ]
    },
    {
      "cell_type": "code",
      "source": [
        "\n",
        "acc = history.history['accuracy']\n",
        "val_acc = history.history['val_accuracy']\n",
        "loss = history.history['loss']\n",
        "val_loss = history.history['val_loss']\n",
        "\n",
        "epochs = range(1, len(acc) + 1)\n",
        "\n",
        "plt.plot(epochs, loss, label='Training loss')\n",
        "plt.plot(epochs, val_loss, label='Validation loss')\n",
        "plt.title('Training and validation loss')\n",
        "plt.xlabel('Epochs')\n",
        "plt.ylabel('Loss')\n",
        "plt.legend()\n",
        "\n",
        "plt.show()"
      ],
      "metadata": {
        "colab": {
          "base_uri": "https://localhost:8080/",
          "height": 472
        },
        "id": "uTOYCqKkTVyC",
        "outputId": "809a7135-5082-4d81-bfce-1b9146d8c02b"
      },
      "execution_count": null,
      "outputs": [
        {
          "output_type": "display_data",
          "data": {
            "text/plain": [
              "<Figure size 640x480 with 1 Axes>"
            ],
            "image/png": "[encoded data removed]"
          },
          "metadata": {}
        }
      ]
    },
    {
      "cell_type": "code",
      "source": [
        "\n",
        "plt.clf()   # clear figure\n",
        "acc_values = history.history['accuracy']\n",
        "val_acc_values = history.history['val_accuracy']\n",
        "\n",
        "plt.plot(epochs, acc, label='Training acc')\n",
        "plt.plot(epochs, val_acc, label='Validation acc')\n",
        "plt.title('Training and validation accuracy')\n",
        "plt.xlabel('Epochs')\n",
        "plt.ylabel('Loss')\n",
        "plt.legend()\n",
        "\n",
        "plt.show()"
      ],
      "metadata": {
        "colab": {
          "base_uri": "https://localhost:8080/",
          "height": 472
        },
        "id": "GJRa20olTcQK",
        "outputId": "f61f4cf4-96f8-4741-b2d0-4af6b8d92e7e"
      },
      "execution_count": null,
      "outputs": [
        {
          "output_type": "display_data",
          "data": {
            "text/plain": [
              "<Figure size 640x480 with 1 Axes>"
            ],
            "image/png": "[encoded data removed]"
          },
          "metadata": {}
        }
      ]
    },
    {
      "cell_type": "code",
      "source": [
        "# Confusion Matrix\n",
        "y_pred_proba = model_rnn.predict(X_test)\n",
        "y_pred = (y_pred_proba > 0.5).astype(int).tolist()\n",
        "\n",
        "class_names = Lb.classes_\n",
        "\n",
        "# Compute classification report\n",
        "from sklearn.metrics import classification_report, confusion_matrix\n",
        "print(\"Classification report : \\n\",classification_report(y_test, y_pred, target_names = class_names))\n"
      ],
      "metadata": {
        "colab": {
          "base_uri": "https://localhost:8080/"
        },
        "id": "LOzwPI9-TgE5",
        "outputId": "66f7190b-2e2a-4260-9c12-827b570a46f7"
      },
      "execution_count": null,
      "outputs": [
        {
          "output_type": "stream",
          "name": "stdout",
          "text": [
            "\u001b[1m276/276\u001b[0m \u001b[32m━━━━━━━━━━━━━━━━━━━━\u001b[0m\u001b[37m\u001b[0m \u001b[1m1s\u001b[0m 3ms/step\n",
            "Classification report : \n",
            "               precision    recall  f1-score   support\n",
            "\n",
            "         neg       0.94      0.90      0.92      4336\n",
            "         pos       0.91      0.94      0.93      4477\n",
            "\n",
            "    accuracy                           0.92      8813\n",
            "   macro avg       0.92      0.92      0.92      8813\n",
            "weighted avg       0.92      0.92      0.92      8813\n",
            "\n"
          ]
        }
      ]
    },
    {
      "cell_type": "code",
      "source": [
        "loss, acc = model_BI.evaluate(X_test, y_test, verbose=0)\n",
        "print(f\"Test Accuracy: {acc:.4f}\")\n"
      ],
      "metadata": {
        "colab": {
          "base_uri": "https://localhost:8080/"
        },
        "id": "GEa2VpwbTjs-",
        "outputId": "04033b10-6538-4622-ac8a-1bc38f92f520"
      },
      "execution_count": null,
      "outputs": [
        {
          "output_type": "stream",
          "name": "stdout",
          "text": [
            "Test Accuracy: 0.9349\n"
          ]
        }
      ]
    },
    {
      "cell_type": "code",
      "source": [
        "model_BI.save(\"model_BI.h5\")"
      ],
      "metadata": {
        "id": "zO9Vwfv8Xmzt",
        "colab": {
          "base_uri": "https://localhost:8080/"
        },
        "outputId": "76279a15-c187-4df5-f2fc-0e4c8b56dbf0"
      },
      "execution_count": null,
      "outputs": [
        {
          "output_type": "stream",
          "name": "stderr",
          "text": [
            "WARNING:absl:You are saving your model as an HDF5 file via `model.save()` or `keras.saving.save_model(model)`. This file format is considered legacy. We recommend using instead the native Keras format, e.g. `model.save('my_model.keras')` or `keras.saving.save_model(model, 'my_model.keras')`. \n"
          ]
        }
      ]
    },
    {
      "cell_type": "code",
      "source": [
        "from google.colab import files\n",
        "files.download(\"model_BI.h5\")\n"
      ],
      "metadata": {
        "colab": {
          "base_uri": "https://localhost:8080/",
          "height": 17
        },
        "id": "hieAq_CEUDsE",
        "outputId": "10186858-d32e-4e11-efdd-ea445abe3024"
      },
      "execution_count": null,
      "outputs": [
        {
          "output_type": "display_data",
          "data": {
            "text/plain": [
              "<IPython.core.display.Javascript object>"
            ],
            "application/javascript": [
              "\n",
              "    async function download(id, filename, size) {\n",
              "      if (!google.colab.kernel.accessAllowed) {\n",
              "        return;\n",
              "      }\n",
              "      const div = document.createElement('div');\n",
              "      const label = document.createElement('label');\n",
              "      label.textContent = `Downloading \"${filename}\": `;\n",
              "      div.appendChild(label);\n",
              "      const progress = document.createElement('progress');\n",
              "      progress.max = size;\n",
              "      div.appendChild(progress);\n",
              "      document.body.appendChild(div);\n",
              "\n",
              "      const buffers = [];\n",
              "      let downloaded = 0;\n",
              "\n",
              "      const channel = await google.colab.kernel.comms.open(id);\n",
              "      // Send a message to notify the kernel that we're ready.\n",
              "      channel.send({})\n",
              "\n",
              "      for await (const message of channel.messages) {\n",
              "        // Send a message to notify the kernel that we're ready.\n",
              "        channel.send({})\n",
              "        if (message.buffers) {\n",
              "          for (const buffer of message.buffers) {\n",
              "            buffers.push(buffer);\n",
              "            downloaded += buffer.byteLength;\n",
              "            progress.value = downloaded;\n",
              "          }\n",
              "        }\n",
              "      }\n",
              "      const blob = new Blob(buffers, {type: 'application/binary'});\n",
              "      const a = document.createElement('a');\n",
              "      a.href = window.URL.createObjectURL(blob);\n",
              "      a.download = filename;\n",
              "      div.appendChild(a);\n",
              "      a.click();\n",
              "      div.remove();\n",
              "    }\n",
              "  "
            ]
          },
          "metadata": {}
        },
        {
          "output_type": "display_data",
          "data": {
            "text/plain": [
              "<IPython.core.display.Javascript object>"
            ],
            "application/javascript": [
              "download(\"download_c93556b7-8471-41c1-865e-49118ed03f3d\", \"model_BI.h5\", 31877296)"
            ]
          },
          "metadata": {}
        }
      ]
    },
    {
      "cell_type": "code",
      "source": [],
      "metadata": {
        "id": "9Cm2toeCUGvK"
      },
      "execution_count": null,
      "outputs": []
    }
  ]
}